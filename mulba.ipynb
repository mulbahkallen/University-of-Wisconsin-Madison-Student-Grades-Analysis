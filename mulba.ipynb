{
 "cells": [
  {
   "cell_type": "markdown",
   "metadata": {},
   "source": [
    "# Data Analysis of -Grades: University of Wisconsin, Madison-\n",
    "## I will attempt to analyze this dataset containing 10 years worth information on\n",
    "### -Professors/Grades/Course/Class Schedule/Departments\n"
   ]
  },
  {
   "cell_type": "code",
   "execution_count": 1,
   "metadata": {
    "scrolled": true
   },
   "outputs": [
    {
     "data": {
      "text/plain": [
       "<sqlite3.Connection at 0x1a1c3a4810>"
      ]
     },
     "execution_count": 1,
     "metadata": {},
     "output_type": "execute_result"
    }
   ],
   "source": [
    "#import of necessary libraries\n",
    "import pandas as pd \n",
    "import numpy as np \n",
    "import seaborn as sns\n",
    "sns.set()\n",
    "from scipy import stats\n",
    "import matplotlib.pyplot as plt \n",
    "import sqlite3 \n",
    "from shutil import copyfile # copy database func\n",
    "\n",
    "# move the database into a writeable format\n",
    "copyfile('import/database.sqlite3', './database.sqlite3')\n",
    "\n",
    "# open connection\n",
    "conn = sqlite3.connect('./database.sqlite3')\n",
    "conn"
   ]
  },
  {
   "cell_type": "code",
   "execution_count": 2,
   "metadata": {},
   "outputs": [],
   "source": [
    "#Create dataframe that displays Teacher his/her classes and grade distribution \n",
    "teacher_vs_grade = pd.read_sql(\"\"\"SELECT * FROM instructors\n",
    "               INNER JOIN teachings \n",
    "                   ON instructors.id = teachings.instructor_id\n",
    "               INNER JOIN sections\n",
    "                   ON teachings.section_uuid = sections.uuid\n",
    "               INNER JOIN grade_distributions\n",
    "                   On sections.course_offering_uuid = grade_distributions.course_offering_uuid\n",
    "            \"\"\", conn)"
   ]
  },
  {
   "cell_type": "code",
   "execution_count": 3,
   "metadata": {},
   "outputs": [
    {
     "data": {
      "text/html": [
       "<div>\n",
       "<style scoped>\n",
       "    .dataframe tbody tr th:only-of-type {\n",
       "        vertical-align: middle;\n",
       "    }\n",
       "\n",
       "    .dataframe tbody tr th {\n",
       "        vertical-align: top;\n",
       "    }\n",
       "\n",
       "    .dataframe thead th {\n",
       "        text-align: right;\n",
       "    }\n",
       "</style>\n",
       "<table border=\"1\" class=\"dataframe\">\n",
       "  <thead>\n",
       "    <tr style=\"text-align: right;\">\n",
       "      <th></th>\n",
       "      <th>id</th>\n",
       "      <th>name</th>\n",
       "      <th>instructor_id</th>\n",
       "      <th>section_uuid</th>\n",
       "      <th>uuid</th>\n",
       "      <th>course_offering_uuid</th>\n",
       "      <th>section_type</th>\n",
       "      <th>number</th>\n",
       "      <th>room_uuid</th>\n",
       "      <th>schedule_uuid</th>\n",
       "      <th>...</th>\n",
       "      <th>other_count</th>\n",
       "      <th>bc_count</th>\n",
       "      <th>u_count</th>\n",
       "      <th>d_count</th>\n",
       "      <th>ab_count</th>\n",
       "      <th>a_count</th>\n",
       "      <th>s_count</th>\n",
       "      <th>i_count</th>\n",
       "      <th>b_count</th>\n",
       "      <th>nr_count</th>\n",
       "    </tr>\n",
       "  </thead>\n",
       "  <tbody>\n",
       "    <tr>\n",
       "      <th>0</th>\n",
       "      <td>761703</td>\n",
       "      <td>JOHN ARCHAMBAULT</td>\n",
       "      <td>761703</td>\n",
       "      <td>45adf63c-48c9-3659-8561-07556d2d4ddf</td>\n",
       "      <td>45adf63c-48c9-3659-8561-07556d2d4ddf</td>\n",
       "      <td>344b3ebe-da7e-314c-83ed-9425269695fd</td>\n",
       "      <td>FLD</td>\n",
       "      <td>1</td>\n",
       "      <td>null</td>\n",
       "      <td>f2d66a4d-0c08-3b48-abf6-649fffd7ae90</td>\n",
       "      <td>...</td>\n",
       "      <td>0</td>\n",
       "      <td>0</td>\n",
       "      <td>0</td>\n",
       "      <td>0</td>\n",
       "      <td>0</td>\n",
       "      <td>105</td>\n",
       "      <td>0</td>\n",
       "      <td>0</td>\n",
       "      <td>0</td>\n",
       "      <td>0</td>\n",
       "    </tr>\n",
       "    <tr>\n",
       "      <th>1</th>\n",
       "      <td>761703</td>\n",
       "      <td>JOHN ARCHAMBAULT</td>\n",
       "      <td>761703</td>\n",
       "      <td>c6280e23-5e43-3859-893e-540d94993529</td>\n",
       "      <td>c6280e23-5e43-3859-893e-540d94993529</td>\n",
       "      <td>f718e6cd-33f0-3c14-a9a6-834d9c3610a8</td>\n",
       "      <td>FLD</td>\n",
       "      <td>1</td>\n",
       "      <td>null</td>\n",
       "      <td>f2d66a4d-0c08-3b48-abf6-649fffd7ae90</td>\n",
       "      <td>...</td>\n",
       "      <td>0</td>\n",
       "      <td>0</td>\n",
       "      <td>0</td>\n",
       "      <td>0</td>\n",
       "      <td>0</td>\n",
       "      <td>158</td>\n",
       "      <td>0</td>\n",
       "      <td>1</td>\n",
       "      <td>0</td>\n",
       "      <td>0</td>\n",
       "    </tr>\n",
       "    <tr>\n",
       "      <th>2</th>\n",
       "      <td>761703</td>\n",
       "      <td>JOHN ARCHAMBAULT</td>\n",
       "      <td>761703</td>\n",
       "      <td>9395dc21-15d1-3fab-8d1f-6f3fe6114c48</td>\n",
       "      <td>9395dc21-15d1-3fab-8d1f-6f3fe6114c48</td>\n",
       "      <td>ea3b717c-d66b-30dc-8b37-964d9688295f</td>\n",
       "      <td>FLD</td>\n",
       "      <td>1</td>\n",
       "      <td>04368a56-c959-3e4b-8b3d-f4cc3538fea5</td>\n",
       "      <td>f2d66a4d-0c08-3b48-abf6-649fffd7ae90</td>\n",
       "      <td>...</td>\n",
       "      <td>0</td>\n",
       "      <td>0</td>\n",
       "      <td>0</td>\n",
       "      <td>0</td>\n",
       "      <td>12</td>\n",
       "      <td>139</td>\n",
       "      <td>0</td>\n",
       "      <td>0</td>\n",
       "      <td>2</td>\n",
       "      <td>0</td>\n",
       "    </tr>\n",
       "  </tbody>\n",
       "</table>\n",
       "<p>3 rows × 28 columns</p>\n",
       "</div>"
      ],
      "text/plain": [
       "       id              name instructor_id  \\\n",
       "0  761703  JOHN ARCHAMBAULT        761703   \n",
       "1  761703  JOHN ARCHAMBAULT        761703   \n",
       "2  761703  JOHN ARCHAMBAULT        761703   \n",
       "\n",
       "                           section_uuid                                  uuid  \\\n",
       "0  45adf63c-48c9-3659-8561-07556d2d4ddf  45adf63c-48c9-3659-8561-07556d2d4ddf   \n",
       "1  c6280e23-5e43-3859-893e-540d94993529  c6280e23-5e43-3859-893e-540d94993529   \n",
       "2  9395dc21-15d1-3fab-8d1f-6f3fe6114c48  9395dc21-15d1-3fab-8d1f-6f3fe6114c48   \n",
       "\n",
       "                   course_offering_uuid section_type number  \\\n",
       "0  344b3ebe-da7e-314c-83ed-9425269695fd          FLD      1   \n",
       "1  f718e6cd-33f0-3c14-a9a6-834d9c3610a8          FLD      1   \n",
       "2  ea3b717c-d66b-30dc-8b37-964d9688295f          FLD      1   \n",
       "\n",
       "                              room_uuid                         schedule_uuid  \\\n",
       "0                                  null  f2d66a4d-0c08-3b48-abf6-649fffd7ae90   \n",
       "1                                  null  f2d66a4d-0c08-3b48-abf6-649fffd7ae90   \n",
       "2  04368a56-c959-3e4b-8b3d-f4cc3538fea5  f2d66a4d-0c08-3b48-abf6-649fffd7ae90   \n",
       "\n",
       "   ... other_count bc_count u_count d_count ab_count a_count s_count i_count  \\\n",
       "0  ...           0        0       0       0        0     105       0       0   \n",
       "1  ...           0        0       0       0        0     158       0       1   \n",
       "2  ...           0        0       0       0       12     139       0       0   \n",
       "\n",
       "  b_count nr_count  \n",
       "0       0        0  \n",
       "1       0        0  \n",
       "2       2        0  \n",
       "\n",
       "[3 rows x 28 columns]"
      ]
     },
     "execution_count": 3,
     "metadata": {},
     "output_type": "execute_result"
    }
   ],
   "source": [
    "teacher_vs_grade.head(3)"
   ]
  },
  {
   "cell_type": "code",
   "execution_count": 4,
   "metadata": {},
   "outputs": [],
   "source": [
    "#drop irrelevant columns\n",
    "tvg_clean = teacher_vs_grade.drop(['instructor_id','uuid','course_offering_uuid','section_type','number', 'room_uuid', 'schedule_uuid'], axis=1)\n",
    "\n",
    "# trouble adding grade values thus dict to convert str values to int\n",
    "\n",
    "int_cols = {'n_count': int, \n",
    "              'c_count': int,\n",
    "              'f_count': int, \n",
    "              'cr_count': int, \n",
    "              'p_count': int, \n",
    "              'nw_count': int, \n",
    "              'other_count': int, \n",
    "              'bc_count': int,\n",
    "              'u_count': int, \n",
    "              'd_count': int, \n",
    "              'ab_count': int, \n",
    "              'a_count': int, \n",
    "              's_count': int, \n",
    "              'i_count': int,\n",
    "              'b_count': int, \n",
    "              'nr_count': int\n",
    "           }\n",
    "tvg_clean = tvg_clean.astype(int_cols) "
   ]
  },
  {
   "cell_type": "code",
   "execution_count": 5,
   "metadata": {
    "scrolled": true
   },
   "outputs": [
    {
     "data": {
      "text/html": [
       "<div>\n",
       "<style scoped>\n",
       "    .dataframe tbody tr th:only-of-type {\n",
       "        vertical-align: middle;\n",
       "    }\n",
       "\n",
       "    .dataframe tbody tr th {\n",
       "        vertical-align: top;\n",
       "    }\n",
       "\n",
       "    .dataframe thead th {\n",
       "        text-align: right;\n",
       "    }\n",
       "</style>\n",
       "<table border=\"1\" class=\"dataframe\">\n",
       "  <thead>\n",
       "    <tr style=\"text-align: right;\">\n",
       "      <th></th>\n",
       "      <th>id</th>\n",
       "      <th>name</th>\n",
       "      <th>section_uuid</th>\n",
       "      <th>section_number</th>\n",
       "      <th>n_count</th>\n",
       "      <th>c_count</th>\n",
       "      <th>f_count</th>\n",
       "      <th>cr_count</th>\n",
       "      <th>p_count</th>\n",
       "      <th>nw_count</th>\n",
       "      <th>...</th>\n",
       "      <th>bc_count</th>\n",
       "      <th>u_count</th>\n",
       "      <th>d_count</th>\n",
       "      <th>ab_count</th>\n",
       "      <th>a_count</th>\n",
       "      <th>s_count</th>\n",
       "      <th>i_count</th>\n",
       "      <th>b_count</th>\n",
       "      <th>nr_count</th>\n",
       "      <th>avg_gpa</th>\n",
       "    </tr>\n",
       "  </thead>\n",
       "  <tbody>\n",
       "    <tr>\n",
       "      <th>0</th>\n",
       "      <td>761703</td>\n",
       "      <td>JOHN ARCHAMBAULT</td>\n",
       "      <td>45adf63c-48c9-3659-8561-07556d2d4ddf</td>\n",
       "      <td>1</td>\n",
       "      <td>0</td>\n",
       "      <td>0</td>\n",
       "      <td>0</td>\n",
       "      <td>0</td>\n",
       "      <td>0</td>\n",
       "      <td>0</td>\n",
       "      <td>...</td>\n",
       "      <td>0</td>\n",
       "      <td>0</td>\n",
       "      <td>0</td>\n",
       "      <td>0</td>\n",
       "      <td>105</td>\n",
       "      <td>0</td>\n",
       "      <td>0</td>\n",
       "      <td>0</td>\n",
       "      <td>0</td>\n",
       "      <td>4.0</td>\n",
       "    </tr>\n",
       "    <tr>\n",
       "      <th>1</th>\n",
       "      <td>761703</td>\n",
       "      <td>JOHN ARCHAMBAULT</td>\n",
       "      <td>c6280e23-5e43-3859-893e-540d94993529</td>\n",
       "      <td>1</td>\n",
       "      <td>0</td>\n",
       "      <td>0</td>\n",
       "      <td>0</td>\n",
       "      <td>0</td>\n",
       "      <td>0</td>\n",
       "      <td>0</td>\n",
       "      <td>...</td>\n",
       "      <td>0</td>\n",
       "      <td>0</td>\n",
       "      <td>0</td>\n",
       "      <td>0</td>\n",
       "      <td>158</td>\n",
       "      <td>0</td>\n",
       "      <td>1</td>\n",
       "      <td>0</td>\n",
       "      <td>0</td>\n",
       "      <td>4.0</td>\n",
       "    </tr>\n",
       "  </tbody>\n",
       "</table>\n",
       "<p>2 rows × 21 columns</p>\n",
       "</div>"
      ],
      "text/plain": [
       "       id              name                          section_uuid  \\\n",
       "0  761703  JOHN ARCHAMBAULT  45adf63c-48c9-3659-8561-07556d2d4ddf   \n",
       "1  761703  JOHN ARCHAMBAULT  c6280e23-5e43-3859-893e-540d94993529   \n",
       "\n",
       "  section_number  n_count  c_count  f_count  cr_count  p_count  nw_count  ...  \\\n",
       "0              1        0        0        0         0        0         0  ...   \n",
       "1              1        0        0        0         0        0         0  ...   \n",
       "\n",
       "   bc_count  u_count  d_count  ab_count  a_count  s_count  i_count  b_count  \\\n",
       "0         0        0        0         0      105        0        0        0   \n",
       "1         0        0        0         0      158        0        1        0   \n",
       "\n",
       "   nr_count  avg_gpa  \n",
       "0         0      4.0  \n",
       "1         0      4.0  \n",
       "\n",
       "[2 rows x 21 columns]"
      ]
     },
     "execution_count": 5,
     "metadata": {},
     "output_type": "execute_result"
    }
   ],
   "source": [
    "# calculate and add average GPA per course to dataframe \n",
    "\n",
    "tvg_clean['avg_gpa']=(((tvg_clean['a_count']*4)+(tvg_clean['ab_count']*3.5)+(tvg_clean['b_count']*3)+(tvg_clean['bc_count']*2.5)+\n",
    "(tvg_clean['c_count']*2)+(tvg_clean['d_count']*1))/(tvg_clean['a_count']+tvg_clean['ab_count']+tvg_clean['b_count']+tvg_clean['bc_count']+\n",
    "tvg_clean['c_count']+tvg_clean['d_count']))\n",
    "tvg_clean.head(2)"
   ]
  },
  {
   "cell_type": "code",
   "execution_count": 6,
   "metadata": {},
   "outputs": [
    {
     "data": {
      "text/html": [
       "<div>\n",
       "<style scoped>\n",
       "    .dataframe tbody tr th:only-of-type {\n",
       "        vertical-align: middle;\n",
       "    }\n",
       "\n",
       "    .dataframe tbody tr th {\n",
       "        vertical-align: top;\n",
       "    }\n",
       "\n",
       "    .dataframe thead th {\n",
       "        text-align: right;\n",
       "    }\n",
       "</style>\n",
       "<table border=\"1\" class=\"dataframe\">\n",
       "  <thead>\n",
       "    <tr style=\"text-align: right;\">\n",
       "      <th></th>\n",
       "      <th>id</th>\n",
       "      <th>name</th>\n",
       "      <th>section_uuid</th>\n",
       "      <th>section_number</th>\n",
       "      <th>n_count</th>\n",
       "      <th>c_count</th>\n",
       "      <th>f_count</th>\n",
       "      <th>cr_count</th>\n",
       "      <th>p_count</th>\n",
       "      <th>nw_count</th>\n",
       "      <th>...</th>\n",
       "      <th>ab_count</th>\n",
       "      <th>a_count</th>\n",
       "      <th>s_count</th>\n",
       "      <th>i_count</th>\n",
       "      <th>b_count</th>\n",
       "      <th>nr_count</th>\n",
       "      <th>avg_gpa</th>\n",
       "      <th>a_prob</th>\n",
       "      <th>ab_prob</th>\n",
       "      <th>&lt;=B_prob</th>\n",
       "    </tr>\n",
       "  </thead>\n",
       "  <tbody>\n",
       "    <tr>\n",
       "      <th>0</th>\n",
       "      <td>761703</td>\n",
       "      <td>JOHN ARCHAMBAULT</td>\n",
       "      <td>45adf63c-48c9-3659-8561-07556d2d4ddf</td>\n",
       "      <td>1</td>\n",
       "      <td>0</td>\n",
       "      <td>0</td>\n",
       "      <td>0</td>\n",
       "      <td>0</td>\n",
       "      <td>0</td>\n",
       "      <td>0</td>\n",
       "      <td>...</td>\n",
       "      <td>0</td>\n",
       "      <td>105</td>\n",
       "      <td>0</td>\n",
       "      <td>0</td>\n",
       "      <td>0</td>\n",
       "      <td>0</td>\n",
       "      <td>4.000000</td>\n",
       "      <td>1.000000</td>\n",
       "      <td>0.000000</td>\n",
       "      <td>0.000000</td>\n",
       "    </tr>\n",
       "    <tr>\n",
       "      <th>1</th>\n",
       "      <td>761703</td>\n",
       "      <td>JOHN ARCHAMBAULT</td>\n",
       "      <td>c6280e23-5e43-3859-893e-540d94993529</td>\n",
       "      <td>1</td>\n",
       "      <td>0</td>\n",
       "      <td>0</td>\n",
       "      <td>0</td>\n",
       "      <td>0</td>\n",
       "      <td>0</td>\n",
       "      <td>0</td>\n",
       "      <td>...</td>\n",
       "      <td>0</td>\n",
       "      <td>158</td>\n",
       "      <td>0</td>\n",
       "      <td>1</td>\n",
       "      <td>0</td>\n",
       "      <td>0</td>\n",
       "      <td>4.000000</td>\n",
       "      <td>1.000000</td>\n",
       "      <td>0.000000</td>\n",
       "      <td>0.000000</td>\n",
       "    </tr>\n",
       "    <tr>\n",
       "      <th>2</th>\n",
       "      <td>761703</td>\n",
       "      <td>JOHN ARCHAMBAULT</td>\n",
       "      <td>9395dc21-15d1-3fab-8d1f-6f3fe6114c48</td>\n",
       "      <td>1</td>\n",
       "      <td>0</td>\n",
       "      <td>3</td>\n",
       "      <td>0</td>\n",
       "      <td>0</td>\n",
       "      <td>0</td>\n",
       "      <td>0</td>\n",
       "      <td>...</td>\n",
       "      <td>12</td>\n",
       "      <td>139</td>\n",
       "      <td>0</td>\n",
       "      <td>0</td>\n",
       "      <td>2</td>\n",
       "      <td>0</td>\n",
       "      <td>3.910256</td>\n",
       "      <td>0.891026</td>\n",
       "      <td>0.076923</td>\n",
       "      <td>0.032051</td>\n",
       "    </tr>\n",
       "    <tr>\n",
       "      <th>3</th>\n",
       "      <td>3677061</td>\n",
       "      <td>STEPHANIE KANN</td>\n",
       "      <td>b99e440b-39db-350a-81eb-b6eb1bd8b0bc</td>\n",
       "      <td>1</td>\n",
       "      <td>0</td>\n",
       "      <td>3</td>\n",
       "      <td>0</td>\n",
       "      <td>0</td>\n",
       "      <td>0</td>\n",
       "      <td>0</td>\n",
       "      <td>...</td>\n",
       "      <td>12</td>\n",
       "      <td>139</td>\n",
       "      <td>0</td>\n",
       "      <td>0</td>\n",
       "      <td>2</td>\n",
       "      <td>0</td>\n",
       "      <td>3.910256</td>\n",
       "      <td>0.891026</td>\n",
       "      <td>0.076923</td>\n",
       "      <td>0.032051</td>\n",
       "    </tr>\n",
       "    <tr>\n",
       "      <th>4</th>\n",
       "      <td>761703</td>\n",
       "      <td>JOHN ARCHAMBAULT</td>\n",
       "      <td>ca1c841f-41d5-3298-bd25-01c65751f150</td>\n",
       "      <td>1</td>\n",
       "      <td>0</td>\n",
       "      <td>3</td>\n",
       "      <td>0</td>\n",
       "      <td>0</td>\n",
       "      <td>0</td>\n",
       "      <td>0</td>\n",
       "      <td>...</td>\n",
       "      <td>12</td>\n",
       "      <td>139</td>\n",
       "      <td>0</td>\n",
       "      <td>0</td>\n",
       "      <td>2</td>\n",
       "      <td>0</td>\n",
       "      <td>3.910256</td>\n",
       "      <td>0.891026</td>\n",
       "      <td>0.076923</td>\n",
       "      <td>0.032051</td>\n",
       "    </tr>\n",
       "  </tbody>\n",
       "</table>\n",
       "<p>5 rows × 24 columns</p>\n",
       "</div>"
      ],
      "text/plain": [
       "        id              name                          section_uuid  \\\n",
       "0   761703  JOHN ARCHAMBAULT  45adf63c-48c9-3659-8561-07556d2d4ddf   \n",
       "1   761703  JOHN ARCHAMBAULT  c6280e23-5e43-3859-893e-540d94993529   \n",
       "2   761703  JOHN ARCHAMBAULT  9395dc21-15d1-3fab-8d1f-6f3fe6114c48   \n",
       "3  3677061    STEPHANIE KANN  b99e440b-39db-350a-81eb-b6eb1bd8b0bc   \n",
       "4   761703  JOHN ARCHAMBAULT  ca1c841f-41d5-3298-bd25-01c65751f150   \n",
       "\n",
       "  section_number  n_count  c_count  f_count  cr_count  p_count  nw_count  ...  \\\n",
       "0              1        0        0        0         0        0         0  ...   \n",
       "1              1        0        0        0         0        0         0  ...   \n",
       "2              1        0        3        0         0        0         0  ...   \n",
       "3              1        0        3        0         0        0         0  ...   \n",
       "4              1        0        3        0         0        0         0  ...   \n",
       "\n",
       "   ab_count  a_count  s_count  i_count  b_count  nr_count   avg_gpa    a_prob  \\\n",
       "0         0      105        0        0        0         0  4.000000  1.000000   \n",
       "1         0      158        0        1        0         0  4.000000  1.000000   \n",
       "2        12      139        0        0        2         0  3.910256  0.891026   \n",
       "3        12      139        0        0        2         0  3.910256  0.891026   \n",
       "4        12      139        0        0        2         0  3.910256  0.891026   \n",
       "\n",
       "    ab_prob  <=B_prob  \n",
       "0  0.000000  0.000000  \n",
       "1  0.000000  0.000000  \n",
       "2  0.076923  0.032051  \n",
       "3  0.076923  0.032051  \n",
       "4  0.076923  0.032051  \n",
       "\n",
       "[5 rows x 24 columns]"
      ]
     },
     "execution_count": 6,
     "metadata": {},
     "output_type": "execute_result"
    }
   ],
   "source": [
    "# id column is also stored as a string will need to change \n",
    "id_col = {'id': int,}\n",
    "\n",
    "# calculate and add the probability of receiving a specific grade based on all previous data \n",
    "tvg_clean1 = tvg_clean.astype(id_col) \n",
    "tvg_clean1=tvg_clean1.dropna()\n",
    "total=(tvg_clean1['a_count'] + tvg_clean1['ab_count'] + tvg_clean1['b_count'] + tvg_clean1['bc_count'] + tvg_clean1['c_count'] + tvg_clean1['d_count'] + tvg_clean1['f_count'])\n",
    "\n",
    "tvg_clean1['a_prob'] =    (1.0 * tvg_clean1['a_count']) / total\n",
    "tvg_clean1['ab_prob'] =  (1.0 * tvg_clean1['ab_count']) / total\n",
    "tvg_clean1['<=B_prob'] = (tvg_clean1['b_count']+tvg_clean1['bc_count'] + tvg_clean1['c_count'] + tvg_clean1['d_count'] + tvg_clean1['f_count']) / total\n",
    "\n",
    "tvg_clean1.head()\n",
    " "
   ]
  },
  {
   "cell_type": "code",
   "execution_count": 8,
   "metadata": {},
   "outputs": [],
   "source": [
    "#find avg gpa for prof counting all his/her courses \n",
    "tvg_clean2 = tvg_clean1.groupby(['id','name']).agg(['mean','count'])\n",
    "dfNew=pd.DataFrame({})\n",
    "dfNew['a_prob']=tvg_clean2['a_prob']['mean']\n",
    "dfNew['ab_prob']=tvg_clean2['ab_prob']['mean']\n",
    "dfNew['<=B_prob']=tvg_clean2['<=B_prob']['mean']"
   ]
  },
  {
   "cell_type": "code",
   "execution_count": 9,
   "metadata": {
    "scrolled": true
   },
   "outputs": [
    {
     "data": {
      "text/html": [
       "<div>\n",
       "<style scoped>\n",
       "    .dataframe tbody tr th:only-of-type {\n",
       "        vertical-align: middle;\n",
       "    }\n",
       "\n",
       "    .dataframe tbody tr th {\n",
       "        vertical-align: top;\n",
       "    }\n",
       "\n",
       "    .dataframe thead th {\n",
       "        text-align: right;\n",
       "    }\n",
       "</style>\n",
       "<table border=\"1\" class=\"dataframe\">\n",
       "  <thead>\n",
       "    <tr style=\"text-align: right;\">\n",
       "      <th></th>\n",
       "      <th></th>\n",
       "      <th>a_prob</th>\n",
       "      <th>ab_prob</th>\n",
       "      <th>&lt;=B_prob</th>\n",
       "    </tr>\n",
       "    <tr>\n",
       "      <th>id</th>\n",
       "      <th>name</th>\n",
       "      <th></th>\n",
       "      <th></th>\n",
       "      <th></th>\n",
       "    </tr>\n",
       "  </thead>\n",
       "  <tbody>\n",
       "    <tr>\n",
       "      <th>100191</th>\n",
       "      <th>SCOTT CRAVEN</th>\n",
       "      <td>0.401261</td>\n",
       "      <td>0.118547</td>\n",
       "      <td>0.480192</td>\n",
       "    </tr>\n",
       "    <tr>\n",
       "      <th>100475</th>\n",
       "      <th>DIANNA MURPHY</th>\n",
       "      <td>0.944444</td>\n",
       "      <td>0.000000</td>\n",
       "      <td>0.055556</td>\n",
       "    </tr>\n",
       "    <tr>\n",
       "      <th>101964</th>\n",
       "      <th>HEIDI BRITT KELLUM</th>\n",
       "      <td>0.981829</td>\n",
       "      <td>0.000000</td>\n",
       "      <td>0.018171</td>\n",
       "    </tr>\n",
       "    <tr>\n",
       "      <th>101997</th>\n",
       "      <th>DANIEL JOSEPH ACHESON</th>\n",
       "      <td>0.144307</td>\n",
       "      <td>0.101253</td>\n",
       "      <td>0.754440</td>\n",
       "    </tr>\n",
       "    <tr>\n",
       "      <th>102482</th>\n",
       "      <th>JONATHAN ANDREW FOLEY</th>\n",
       "      <td>0.644469</td>\n",
       "      <td>0.192260</td>\n",
       "      <td>0.163271</td>\n",
       "    </tr>\n",
       "  </tbody>\n",
       "</table>\n",
       "</div>"
      ],
      "text/plain": [
       "                                a_prob   ab_prob  <=B_prob\n",
       "id     name                                               \n",
       "100191 SCOTT CRAVEN           0.401261  0.118547  0.480192\n",
       "100475 DIANNA MURPHY          0.944444  0.000000  0.055556\n",
       "101964 HEIDI BRITT KELLUM     0.981829  0.000000  0.018171\n",
       "101997 DANIEL JOSEPH ACHESON  0.144307  0.101253  0.754440\n",
       "102482 JONATHAN ANDREW FOLEY  0.644469  0.192260  0.163271"
      ]
     },
     "execution_count": 9,
     "metadata": {},
     "output_type": "execute_result"
    }
   ],
   "source": [
    "dfNew.head()"
   ]
  },
  {
   "cell_type": "code",
   "execution_count": 13,
   "metadata": {},
   "outputs": [
    {
     "name": "stdout",
     "output_type": "stream",
     "text": [
      "UofW Dataset.ipynb  \u001b[34mexport\u001b[m\u001b[m/             \u001b[34mimport\u001b[m\u001b[m/             readme.txt\r\n",
      "database.sqlite3    huy.ipynb           mulba.ipynb\r\n"
     ]
    }
   ],
   "source": [
    "ls"
   ]
  },
  {
   "cell_type": "code",
   "execution_count": 14,
   "metadata": {},
   "outputs": [
    {
     "name": "stdout",
     "output_type": "stream",
     "text": [
      "rm: Clean.csv: No such file or directory\r\n"
     ]
    }
   ],
   "source": [
    "!rm Clean.csv\n",
    "\n",
    "dfNew.to_csv('export/clean.csv') "
   ]
  },
  {
   "cell_type": "code",
   "execution_count": 15,
   "metadata": {
    "scrolled": false
   },
   "outputs": [
    {
     "data": {
      "text/html": [
       "<div>\n",
       "<style scoped>\n",
       "    .dataframe tbody tr th:only-of-type {\n",
       "        vertical-align: middle;\n",
       "    }\n",
       "\n",
       "    .dataframe tbody tr th {\n",
       "        vertical-align: top;\n",
       "    }\n",
       "\n",
       "    .dataframe thead th {\n",
       "        text-align: right;\n",
       "    }\n",
       "</style>\n",
       "<table border=\"1\" class=\"dataframe\">\n",
       "  <thead>\n",
       "    <tr style=\"text-align: right;\">\n",
       "      <th></th>\n",
       "      <th></th>\n",
       "      <th>count</th>\n",
       "      <th>mean</th>\n",
       "    </tr>\n",
       "    <tr>\n",
       "      <th>id</th>\n",
       "      <th>name</th>\n",
       "      <th></th>\n",
       "      <th></th>\n",
       "    </tr>\n",
       "  </thead>\n",
       "  <tbody>\n",
       "    <tr>\n",
       "      <th>100191</th>\n",
       "      <th>SCOTT CRAVEN</th>\n",
       "      <td>14</td>\n",
       "      <td>3.191258</td>\n",
       "    </tr>\n",
       "    <tr>\n",
       "      <th>100475</th>\n",
       "      <th>DIANNA MURPHY</th>\n",
       "      <td>2</td>\n",
       "      <td>3.944444</td>\n",
       "    </tr>\n",
       "    <tr>\n",
       "      <th>101964</th>\n",
       "      <th>HEIDI BRITT KELLUM</th>\n",
       "      <td>24</td>\n",
       "      <td>3.945486</td>\n",
       "    </tr>\n",
       "    <tr>\n",
       "      <th>101997</th>\n",
       "      <th>DANIEL JOSEPH ACHESON</th>\n",
       "      <td>21</td>\n",
       "      <td>2.702816</td>\n",
       "    </tr>\n",
       "    <tr>\n",
       "      <th>102482</th>\n",
       "      <th>JONATHAN ANDREW FOLEY</th>\n",
       "      <td>10</td>\n",
       "      <td>3.733114</td>\n",
       "    </tr>\n",
       "  </tbody>\n",
       "</table>\n",
       "</div>"
      ],
      "text/plain": [
       "                              count      mean\n",
       "id     name                                  \n",
       "100191 SCOTT CRAVEN              14  3.191258\n",
       "100475 DIANNA MURPHY              2  3.944444\n",
       "101964 HEIDI BRITT KELLUM        24  3.945486\n",
       "101997 DANIEL JOSEPH ACHESON     21  2.702816\n",
       "102482 JONATHAN ANDREW FOLEY     10  3.733114"
      ]
     },
     "execution_count": 15,
     "metadata": {},
     "output_type": "execute_result"
    }
   ],
   "source": [
    "#data frame of professors, the number of classes they taught and there average class GPA\n",
    "final_prof = pd.concat([tvg_clean2['n_count']['count'],tvg_clean2['avg_gpa']['mean']],axis = 1)\n",
    "final_prof = final_prof.dropna()\n",
    "final_prof.head()"
   ]
  },
  {
   "cell_type": "code",
   "execution_count": 86,
   "metadata": {},
   "outputs": [],
   "source": [
    "final_prof['<=B_prob'] = tvg_clean2['<=B_prob']['mean']                \n",
    "final_prof['ab_prob'] = tvg_clean2['ab_prob']['mean']                  \n",
    "final_prof['a_prob'] = tvg_clean2['a_prob']['mean']                  \n"
   ]
  },
  {
   "cell_type": "code",
   "execution_count": 87,
   "metadata": {},
   "outputs": [
    {
     "data": {
      "text/html": [
       "<div>\n",
       "<style scoped>\n",
       "    .dataframe tbody tr th:only-of-type {\n",
       "        vertical-align: middle;\n",
       "    }\n",
       "\n",
       "    .dataframe tbody tr th {\n",
       "        vertical-align: top;\n",
       "    }\n",
       "\n",
       "    .dataframe thead th {\n",
       "        text-align: right;\n",
       "    }\n",
       "</style>\n",
       "<table border=\"1\" class=\"dataframe\">\n",
       "  <thead>\n",
       "    <tr style=\"text-align: right;\">\n",
       "      <th></th>\n",
       "      <th></th>\n",
       "      <th>count</th>\n",
       "      <th>mean</th>\n",
       "      <th>&lt;=B_prob</th>\n",
       "      <th>ab_prob</th>\n",
       "      <th>a_prob</th>\n",
       "    </tr>\n",
       "    <tr>\n",
       "      <th>id</th>\n",
       "      <th>name</th>\n",
       "      <th></th>\n",
       "      <th></th>\n",
       "      <th></th>\n",
       "      <th></th>\n",
       "      <th></th>\n",
       "    </tr>\n",
       "  </thead>\n",
       "  <tbody>\n",
       "    <tr>\n",
       "      <th>100191</th>\n",
       "      <th>SCOTT CRAVEN</th>\n",
       "      <td>14</td>\n",
       "      <td>3.19</td>\n",
       "      <td>0.480192</td>\n",
       "      <td>0.118547</td>\n",
       "      <td>0.401261</td>\n",
       "    </tr>\n",
       "    <tr>\n",
       "      <th>100475</th>\n",
       "      <th>DIANNA MURPHY</th>\n",
       "      <td>2</td>\n",
       "      <td>3.94</td>\n",
       "      <td>0.055556</td>\n",
       "      <td>0.000000</td>\n",
       "      <td>0.944444</td>\n",
       "    </tr>\n",
       "    <tr>\n",
       "      <th>101964</th>\n",
       "      <th>HEIDI BRITT KELLUM</th>\n",
       "      <td>24</td>\n",
       "      <td>3.95</td>\n",
       "      <td>0.018171</td>\n",
       "      <td>0.000000</td>\n",
       "      <td>0.981829</td>\n",
       "    </tr>\n",
       "    <tr>\n",
       "      <th>101997</th>\n",
       "      <th>DANIEL JOSEPH ACHESON</th>\n",
       "      <td>21</td>\n",
       "      <td>2.70</td>\n",
       "      <td>0.754440</td>\n",
       "      <td>0.101253</td>\n",
       "      <td>0.144307</td>\n",
       "    </tr>\n",
       "    <tr>\n",
       "      <th>102482</th>\n",
       "      <th>JONATHAN ANDREW FOLEY</th>\n",
       "      <td>10</td>\n",
       "      <td>3.73</td>\n",
       "      <td>0.163271</td>\n",
       "      <td>0.192260</td>\n",
       "      <td>0.644469</td>\n",
       "    </tr>\n",
       "  </tbody>\n",
       "</table>\n",
       "</div>"
      ],
      "text/plain": [
       "                              count  mean  <=B_prob   ab_prob    a_prob\n",
       "id     name                                                            \n",
       "100191 SCOTT CRAVEN              14  3.19  0.480192  0.118547  0.401261\n",
       "100475 DIANNA MURPHY              2  3.94  0.055556  0.000000  0.944444\n",
       "101964 HEIDI BRITT KELLUM        24  3.95  0.018171  0.000000  0.981829\n",
       "101997 DANIEL JOSEPH ACHESON     21  2.70  0.754440  0.101253  0.144307\n",
       "102482 JONATHAN ANDREW FOLEY     10  3.73  0.163271  0.192260  0.644469"
      ]
     },
     "execution_count": 87,
     "metadata": {},
     "output_type": "execute_result"
    }
   ],
   "source": [
    "final_prof.head()"
   ]
  },
  {
   "cell_type": "code",
   "execution_count": 88,
   "metadata": {},
   "outputs": [],
   "source": [
    "# good sign that mean and median are similar "
   ]
  },
  {
   "cell_type": "code",
   "execution_count": 89,
   "metadata": {},
   "outputs": [
    {
     "data": {
      "text/plain": [
       "3.43"
      ]
     },
     "execution_count": 89,
     "metadata": {},
     "output_type": "execute_result"
    }
   ],
   "source": [
    "final_prof['mean'].median()"
   ]
  },
  {
   "cell_type": "code",
   "execution_count": 90,
   "metadata": {},
   "outputs": [
    {
     "data": {
      "text/plain": [
       "3.426869089099048"
      ]
     },
     "execution_count": 90,
     "metadata": {},
     "output_type": "execute_result"
    }
   ],
   "source": [
    "final_prof['mean'].mean()"
   ]
  },
  {
   "cell_type": "markdown",
   "metadata": {},
   "source": [
    "##### There are over 18,000 professors in this dataset. The range of classes they have taught over the years varies wildly. I will need to narrow in on what seems more normal taking into account that the next question I need to answer is whether teaching more classes improves a prof. average GPA "
   ]
  },
  {
   "cell_type": "code",
   "execution_count": 91,
   "metadata": {},
   "outputs": [
    {
     "data": {
      "text/plain": [
       "[-49.0, 95.0]"
      ]
     },
     "execution_count": 91,
     "metadata": {},
     "output_type": "execute_result"
    }
   ],
   "source": [
    "outlier=final_prof['count']\n",
    "#IQR=Q3-Q1\n",
    "Q1=np.percentile(outlier,25)\n",
    "Q3=np.percentile(outlier,75)\n",
    "IQR=Q3-Q1\n",
    "#[Q1-1.5*IQR,Q3+1.5*IQR]\n",
    "outliers=[Q1-1.5*IQR,Q3+1.5*IQR]\n",
    "outliers"
   ]
  },
  {
   "cell_type": "code",
   "execution_count": 92,
   "metadata": {},
   "outputs": [
    {
     "data": {
      "image/png": "[encoded data removed]",
      "text/plain": [
       "<Figure size 432x288 with 1 Axes>"
      ]
     },
     "metadata": {
      "needs_background": "light"
     },
     "output_type": "display_data"
    }
   ],
   "source": [
    "final_prof['mean'].plot(kind='box')\n",
    "\n",
    "plt.show()"
   ]
  },
  {
   "cell_type": "code",
   "execution_count": 93,
   "metadata": {},
   "outputs": [
    {
     "data": {
      "image/png": "[encoded data removed]",
      "text/plain": [
       "<Figure size 432x288 with 1 Axes>"
      ]
     },
     "metadata": {
      "needs_background": "light"
     },
     "output_type": "display_data"
    }
   ],
   "source": [
    "final_prof['count'].plot(kind='box')\n",
    "plt.show()"
   ]
  },
  {
   "cell_type": "markdown",
   "metadata": {},
   "source": [
    "#### The number of outliers is a bit extreme but in order to proove the alternative hypothesis it is important that I maintain a significant amount of professors that have taught many courses over the years. \n",
    "\n",
    "#### The upper average of professors will teach 4 classes in the Spring, 3 in the summer and 4 in the fall. Thus over the roughly 10 years that this dataset represents the upper average professor should have taught 110 classes. What is extremely odd is that some professors have taught 700 + courses. "
   ]
  },
  {
   "cell_type": "code",
   "execution_count": 94,
   "metadata": {},
   "outputs": [],
   "source": [
    "# how many prof. have taught over 500 classes \n",
    "peek = final_prof[(final_prof['count']>500) & (final_prof['count'] < 10000)]"
   ]
  },
  {
   "cell_type": "code",
   "execution_count": 95,
   "metadata": {},
   "outputs": [
    {
     "data": {
      "text/plain": [
       "89"
      ]
     },
     "execution_count": 95,
     "metadata": {},
     "output_type": "execute_result"
    }
   ],
   "source": [
    "len(peek)"
   ]
  },
  {
   "cell_type": "code",
   "execution_count": 96,
   "metadata": {},
   "outputs": [],
   "source": [
    "# appropriate range of classes is between 16 and 240 \n",
    "final_prof_num=final_prof[(final_prof['count']>16) & (final_prof['count'] < 240)]"
   ]
  },
  {
   "cell_type": "code",
   "execution_count": 97,
   "metadata": {},
   "outputs": [
    {
     "data": {
      "text/plain": [
       "[-44.5, 143.5]"
      ]
     },
     "execution_count": 97,
     "metadata": {},
     "output_type": "execute_result"
    }
   ],
   "source": [
    "outlier=final_prof_num['count']\n",
    "#IQR=Q3-Q1\n",
    "Q1=np.percentile(outlier,25)\n",
    "Q3=np.percentile(outlier,75)\n",
    "IQR=Q3-Q1\n",
    "#[Q1-1.5*IQR,Q3+1.5*IQR]\n",
    "outliers=[Q1-1.5*IQR,Q3+1.5*IQR]\n",
    "outliers"
   ]
  },
  {
   "cell_type": "code",
   "execution_count": 98,
   "metadata": {},
   "outputs": [
    {
     "data": {
      "text/plain": [
       "3.40473076923075"
      ]
     },
     "execution_count": 98,
     "metadata": {},
     "output_type": "execute_result"
    }
   ],
   "source": [
    "final_prof_num['mean'].mean()"
   ]
  },
  {
   "cell_type": "code",
   "execution_count": 99,
   "metadata": {},
   "outputs": [],
   "source": [
    "anomalies = []\n",
    "\n",
    "\n",
    "# Function to Detection Outlier on one-dimentional datasets.\n",
    "def find_anomalies(data):\n",
    "    # Set upper and lower limit to 3 standard deviation\n",
    "    random_data_std = np.std(data)\n",
    "    random_data_mean = np.mean(data)\n",
    "    anomaly_cut_off = random_data_std * 1\n",
    "    \n",
    "    lower_limit  = random_data_mean - anomaly_cut_off \n",
    "    upper_limit = random_data_mean + anomaly_cut_off\n",
    "    print(lower_limit)\n",
    "    # Generate outliers\n",
    "    for outlier in data:\n",
    "        if outlier > upper_limit or outlier < lower_limit:\n",
    "            anomalies.append(outlier)\n",
    "    return anomalies\n"
   ]
  },
  {
   "cell_type": "code",
   "execution_count": 100,
   "metadata": {},
   "outputs": [
    {
     "name": "stdout",
     "output_type": "stream",
     "text": [
      "12.900997180249448\n"
     ]
    },
    {
     "data": {
      "text/plain": [
       "[103, 114, 171, 120, 200]"
      ]
     },
     "execution_count": 100,
     "metadata": {},
     "output_type": "execute_result"
    }
   ],
   "source": [
    "find_anomalies(final_prof_num['count'])[:5]"
   ]
  },
  {
   "cell_type": "code",
   "execution_count": 101,
   "metadata": {},
   "outputs": [
    {
     "data": {
      "image/png": "[encoded data removed]",
      "text/plain": [
       "<Figure size 432x288 with 1 Axes>"
      ]
     },
     "metadata": {
      "needs_background": "light"
     },
     "output_type": "display_data"
    }
   ],
   "source": [
    "final_prof_num['mean'].plot(kind='box')\n",
    "plt.show()"
   ]
  },
  {
   "cell_type": "code",
   "execution_count": 102,
   "metadata": {},
   "outputs": [
    {
     "data": {
      "image/png": "[encoded data removed]",
      "text/plain": [
       "<Figure size 432x288 with 1 Axes>"
      ]
     },
     "metadata": {
      "needs_background": "light"
     },
     "output_type": "display_data"
    }
   ],
   "source": [
    "final_prof_num['count'].plot(kind='box')\n",
    "plt.show()\n",
    "\n",
    "# acceptble outliers between the 200 to 250 range "
   ]
  },
  {
   "cell_type": "code",
   "execution_count": 103,
   "metadata": {},
   "outputs": [
    {
     "data": {
      "text/html": [
       "<div>\n",
       "<style scoped>\n",
       "    .dataframe tbody tr th:only-of-type {\n",
       "        vertical-align: middle;\n",
       "    }\n",
       "\n",
       "    .dataframe tbody tr th {\n",
       "        vertical-align: top;\n",
       "    }\n",
       "\n",
       "    .dataframe thead th {\n",
       "        text-align: right;\n",
       "    }\n",
       "</style>\n",
       "<table border=\"1\" class=\"dataframe\">\n",
       "  <thead>\n",
       "    <tr style=\"text-align: right;\">\n",
       "      <th></th>\n",
       "      <th></th>\n",
       "      <th>count</th>\n",
       "      <th>mean</th>\n",
       "      <th>&lt;=B_prob</th>\n",
       "      <th>ab_prob</th>\n",
       "      <th>a_prob</th>\n",
       "    </tr>\n",
       "    <tr>\n",
       "      <th>id</th>\n",
       "      <th>name</th>\n",
       "      <th></th>\n",
       "      <th></th>\n",
       "      <th></th>\n",
       "      <th></th>\n",
       "      <th></th>\n",
       "    </tr>\n",
       "  </thead>\n",
       "  <tbody>\n",
       "    <tr>\n",
       "      <th>101964</th>\n",
       "      <th>HEIDI BRITT KELLUM</th>\n",
       "      <td>24</td>\n",
       "      <td>3.95</td>\n",
       "      <td>0.018171</td>\n",
       "      <td>0.000000</td>\n",
       "      <td>0.981829</td>\n",
       "    </tr>\n",
       "    <tr>\n",
       "      <th>101997</th>\n",
       "      <th>DANIEL JOSEPH ACHESON</th>\n",
       "      <td>21</td>\n",
       "      <td>2.70</td>\n",
       "      <td>0.754440</td>\n",
       "      <td>0.101253</td>\n",
       "      <td>0.144307</td>\n",
       "    </tr>\n",
       "    <tr>\n",
       "      <th>102567</th>\n",
       "      <th>ANDREW ALEXANDER</th>\n",
       "      <td>43</td>\n",
       "      <td>3.90</td>\n",
       "      <td>0.060689</td>\n",
       "      <td>0.067893</td>\n",
       "      <td>0.871418</td>\n",
       "    </tr>\n",
       "    <tr>\n",
       "      <th>103387</th>\n",
       "      <th>JEFFREY ANDERS</th>\n",
       "      <td>73</td>\n",
       "      <td>3.86</td>\n",
       "      <td>0.092403</td>\n",
       "      <td>0.068648</td>\n",
       "      <td>0.838950</td>\n",
       "    </tr>\n",
       "    <tr>\n",
       "      <th>105156</th>\n",
       "      <th>CAROL LEE</th>\n",
       "      <td>103</td>\n",
       "      <td>3.66</td>\n",
       "      <td>0.209336</td>\n",
       "      <td>0.050462</td>\n",
       "      <td>0.740202</td>\n",
       "    </tr>\n",
       "  </tbody>\n",
       "</table>\n",
       "</div>"
      ],
      "text/plain": [
       "                              count  mean  <=B_prob   ab_prob    a_prob\n",
       "id     name                                                            \n",
       "101964 HEIDI BRITT KELLUM        24  3.95  0.018171  0.000000  0.981829\n",
       "101997 DANIEL JOSEPH ACHESON     21  2.70  0.754440  0.101253  0.144307\n",
       "102567 ANDREW ALEXANDER          43  3.90  0.060689  0.067893  0.871418\n",
       "103387 JEFFREY ANDERS            73  3.86  0.092403  0.068648  0.838950\n",
       "105156 CAROL LEE                103  3.66  0.209336  0.050462  0.740202"
      ]
     },
     "execution_count": 103,
     "metadata": {},
     "output_type": "execute_result"
    }
   ],
   "source": [
    "final_prof_num.head() # this subsample of professors best represent the dataset "
   ]
  },
  {
   "cell_type": "code",
   "execution_count": 104,
   "metadata": {
    "scrolled": true
   },
   "outputs": [
    {
     "data": {
      "text/html": [
       "<div>\n",
       "<style scoped>\n",
       "    .dataframe tbody tr th:only-of-type {\n",
       "        vertical-align: middle;\n",
       "    }\n",
       "\n",
       "    .dataframe tbody tr th {\n",
       "        vertical-align: top;\n",
       "    }\n",
       "\n",
       "    .dataframe thead th {\n",
       "        text-align: right;\n",
       "    }\n",
       "</style>\n",
       "<table border=\"1\" class=\"dataframe\">\n",
       "  <thead>\n",
       "    <tr style=\"text-align: right;\">\n",
       "      <th></th>\n",
       "      <th>count</th>\n",
       "      <th>mean</th>\n",
       "      <th>&lt;=B_prob</th>\n",
       "      <th>ab_prob</th>\n",
       "      <th>a_prob</th>\n",
       "    </tr>\n",
       "  </thead>\n",
       "  <tbody>\n",
       "    <tr>\n",
       "      <th>count</th>\n",
       "      <td>8060.000000</td>\n",
       "      <td>8060.000000</td>\n",
       "      <td>8060.000000</td>\n",
       "      <td>8060.000000</td>\n",
       "      <td>8060.000000</td>\n",
       "    </tr>\n",
       "    <tr>\n",
       "      <th>mean</th>\n",
       "      <td>57.688462</td>\n",
       "      <td>3.404731</td>\n",
       "      <td>0.361976</td>\n",
       "      <td>0.191863</td>\n",
       "      <td>0.446162</td>\n",
       "    </tr>\n",
       "    <tr>\n",
       "      <th>std</th>\n",
       "      <td>44.790243</td>\n",
       "      <td>0.335033</td>\n",
       "      <td>0.222007</td>\n",
       "      <td>0.095923</td>\n",
       "      <td>0.237559</td>\n",
       "    </tr>\n",
       "    <tr>\n",
       "      <th>min</th>\n",
       "      <td>17.000000</td>\n",
       "      <td>2.630000</td>\n",
       "      <td>0.000000</td>\n",
       "      <td>0.000000</td>\n",
       "      <td>0.056939</td>\n",
       "    </tr>\n",
       "    <tr>\n",
       "      <th>25%</th>\n",
       "      <td>26.000000</td>\n",
       "      <td>3.110000</td>\n",
       "      <td>0.159460</td>\n",
       "      <td>0.122806</td>\n",
       "      <td>0.247471</td>\n",
       "    </tr>\n",
       "    <tr>\n",
       "      <th>50%</th>\n",
       "      <td>41.000000</td>\n",
       "      <td>3.400000</td>\n",
       "      <td>0.362258</td>\n",
       "      <td>0.183235</td>\n",
       "      <td>0.373630</td>\n",
       "    </tr>\n",
       "    <tr>\n",
       "      <th>75%</th>\n",
       "      <td>73.000000</td>\n",
       "      <td>3.690000</td>\n",
       "      <td>0.572700</td>\n",
       "      <td>0.257775</td>\n",
       "      <td>0.625794</td>\n",
       "    </tr>\n",
       "    <tr>\n",
       "      <th>max</th>\n",
       "      <td>239.000000</td>\n",
       "      <td>4.000000</td>\n",
       "      <td>0.943061</td>\n",
       "      <td>0.617428</td>\n",
       "      <td>1.000000</td>\n",
       "    </tr>\n",
       "  </tbody>\n",
       "</table>\n",
       "</div>"
      ],
      "text/plain": [
       "             count         mean     <=B_prob      ab_prob       a_prob\n",
       "count  8060.000000  8060.000000  8060.000000  8060.000000  8060.000000\n",
       "mean     57.688462     3.404731     0.361976     0.191863     0.446162\n",
       "std      44.790243     0.335033     0.222007     0.095923     0.237559\n",
       "min      17.000000     2.630000     0.000000     0.000000     0.056939\n",
       "25%      26.000000     3.110000     0.159460     0.122806     0.247471\n",
       "50%      41.000000     3.400000     0.362258     0.183235     0.373630\n",
       "75%      73.000000     3.690000     0.572700     0.257775     0.625794\n",
       "max     239.000000     4.000000     0.943061     0.617428     1.000000"
      ]
     },
     "execution_count": 104,
     "metadata": {},
     "output_type": "execute_result"
    }
   ],
   "source": [
    "final_prof_num.describe()"
   ]
  },
  {
   "cell_type": "code",
   "execution_count": 105,
   "metadata": {},
   "outputs": [],
   "source": [
    "#outlier data "
   ]
  },
  {
   "cell_type": "code",
   "execution_count": 106,
   "metadata": {},
   "outputs": [
    {
     "data": {
      "image/png": "[encoded data removed]",
      "text/plain": [
       "<Figure size 432x288 with 1 Axes>"
      ]
     },
     "metadata": {
      "needs_background": "light"
     },
     "output_type": "display_data"
    }
   ],
   "source": [
    "# skewed data is expected\n",
    "sns.distplot(final_prof_num['count'])\n",
    "plt.show()"
   ]
  },
  {
   "cell_type": "code",
   "execution_count": 107,
   "metadata": {},
   "outputs": [
    {
     "data": {
      "image/png": "[encoded data removed]",
      "text/plain": [
       "<Figure size 432x288 with 1 Axes>"
      ]
     },
     "metadata": {
      "needs_background": "light"
     },
     "output_type": "display_data"
    }
   ],
   "source": [
    "# non normalized dataset \n",
    "ax = sns.distplot(final_prof_num['mean'], vertical= False, )\n",
    "plt.show()"
   ]
  },
  {
   "cell_type": "raw",
   "metadata": {},
   "source": [
    "## Hypothesis Test\n",
    "\n",
    "H0: regardless of classes taught prof will have average GPA that will match the Average GPA\n",
    "H1: Professors that have taught more classes will have a better average GPA"
   ]
  },
  {
   "cell_type": "code",
   "execution_count": 108,
   "metadata": {
    "scrolled": true
   },
   "outputs": [
    {
     "data": {
      "text/plain": [
       "3.40473076923075"
      ]
     },
     "execution_count": 108,
     "metadata": {},
     "output_type": "execute_result"
    }
   ],
   "source": [
    "final_prof_num['mean'].mean()"
   ]
  },
  {
   "cell_type": "code",
   "execution_count": 109,
   "metadata": {},
   "outputs": [],
   "source": [
    "# split of data for number of classes taught. Data split on count mean"
   ]
  },
  {
   "cell_type": "code",
   "execution_count": 110,
   "metadata": {},
   "outputs": [],
   "source": [
    "lower_sample = final_prof_num=final_prof[(final_prof['count'] < 68)]\n",
    "upper_sample = final_prof_num=final_prof[(final_prof['count'] > 68)]\n",
    "mid_sample = final_prof_num=final_prof[(final_prof['count'] == 68)]"
   ]
  },
  {
   "cell_type": "code",
   "execution_count": 111,
   "metadata": {},
   "outputs": [
    {
     "name": "stdout",
     "output_type": "stream",
     "text": [
      "15413\n",
      "2610\n"
     ]
    }
   ],
   "source": [
    "print(len(lower_sample))\n",
    "print(len(upper_sample))"
   ]
  },
  {
   "cell_type": "code",
   "execution_count": 112,
   "metadata": {},
   "outputs": [],
   "source": [
    "# balance sample size \n",
    "low_sample = lower_sample.sample(n=len(upper_sample))"
   ]
  },
  {
   "cell_type": "code",
   "execution_count": 113,
   "metadata": {
    "scrolled": true
   },
   "outputs": [
    {
     "name": "stdout",
     "output_type": "stream",
     "text": [
      "2610\n",
      "2610\n"
     ]
    }
   ],
   "source": [
    "print(len(low_sample))\n",
    "print(len(upper_sample))"
   ]
  },
  {
   "cell_type": "code",
   "execution_count": 114,
   "metadata": {
    "scrolled": true
   },
   "outputs": [
    {
     "name": "stdout",
     "output_type": "stream",
     "text": [
      "t_stat: -7.382085962222954 p_val:  1.804058485652646e-13\n"
     ]
    }
   ],
   "source": [
    "tstat, pval = stats.ttest_ind(a= low_sample['mean'],\n",
    "                b= upper_sample['mean'])\n",
    "\n",
    "print('t_stat:', tstat, 'p_val: ', pval)"
   ]
  },
  {
   "cell_type": "code",
   "execution_count": 115,
   "metadata": {},
   "outputs": [],
   "source": [
    "LS = low_sample.sample(n = 1000)\n",
    "US = upper_sample.sample(n = 1000)"
   ]
  },
  {
   "cell_type": "code",
   "execution_count": 116,
   "metadata": {},
   "outputs": [
    {
     "data": {
      "text/plain": [
       "Ttest_indResult(statistic=-5.431313192267561, pvalue=6.276194803078275e-08)"
      ]
     },
     "execution_count": 116,
     "metadata": {},
     "output_type": "execute_result"
    }
   ],
   "source": [
    "stats.ttest_ind(a= LS['mean'],\n",
    "                b= US['mean'])"
   ]
  },
  {
   "cell_type": "markdown",
   "metadata": {},
   "source": [
    "### Our test yields an extremely low pvalue thus we can reject the null hyothesis and accept the alternative hypothesis "
   ]
  },
  {
   "cell_type": "code",
   "execution_count": 117,
   "metadata": {},
   "outputs": [
    {
     "data": {
      "text/plain": [
       "<sqlite3.Cursor at 0x1a28a78c00>"
      ]
     },
     "execution_count": 117,
     "metadata": {},
     "output_type": "execute_result"
    }
   ],
   "source": [
    "c = conn.cursor()\n",
    "c.execute(\"DROP VIEW IF EXISTS section_gpas\")\n",
    "c.execute(\"\"\"\n",
    "  CREATE VIEW\n",
    "  section_gpas (course_offering_uuid, section_number, gpa, num_grades)\n",
    "  AS\n",
    "  SELECT\n",
    "    course_offering_uuid,\n",
    "    section_number,\n",
    "    (4.0 * a_count + 3.5 * ab_count + 3.0 * b_count + 2.5 * bc_count + 2 * c_count + 1 * d_count) / (a_count + ab_count + b_count + bc_count + c_count + d_count + f_count) AS gpa,\n",
    "    a_count + ab_count + b_count + bc_count + c_count + d_count + f_count AS num_grades\n",
    "  FROM grade_distributions\n",
    "\"\"\")"
   ]
  },
  {
   "cell_type": "code",
   "execution_count": 118,
   "metadata": {},
   "outputs": [],
   "source": [
    "Department = pd.read_sql(\"\"\"\n",
    "  SELECT subjects.name, subjects.abbreviation,\n",
    "    SUM(gpas.gpa * gpas.num_grades) / SUM(gpas.num_grades) as avg_gpa,\n",
    "    AVG(gpas.num_grades) as avg_num_grades, \n",
    "    SUM(gpas.num_grades) as total_num_grades\n",
    "  FROM subjects\n",
    "  JOIN subject_memberships sm ON sm.subject_code = subjects.code\n",
    "  JOIN course_offerings co ON co.uuid = sm.course_offering_uuid\n",
    "  JOIN sections s ON s.course_offering_uuid = co.uuid\n",
    "  JOIN section_gpas gpas ON gpas.course_offering_uuid = s.course_offering_uuid AND gpas.section_number = s.number\n",
    "  GROUP BY subjects.code\n",
    "  HAVING total_num_grades > 0\n",
    "  ORDER BY avg_gpa DESC\n",
    "\"\"\", conn)"
   ]
  },
  {
   "cell_type": "code",
   "execution_count": 119,
   "metadata": {},
   "outputs": [
    {
     "data": {
      "text/html": [
       "<div>\n",
       "<style scoped>\n",
       "    .dataframe tbody tr th:only-of-type {\n",
       "        vertical-align: middle;\n",
       "    }\n",
       "\n",
       "    .dataframe tbody tr th {\n",
       "        vertical-align: top;\n",
       "    }\n",
       "\n",
       "    .dataframe thead th {\n",
       "        text-align: right;\n",
       "    }\n",
       "</style>\n",
       "<table border=\"1\" class=\"dataframe\">\n",
       "  <thead>\n",
       "    <tr style=\"text-align: right;\">\n",
       "      <th></th>\n",
       "      <th>name</th>\n",
       "      <th>abbreviation</th>\n",
       "      <th>avg_gpa</th>\n",
       "      <th>avg_num_grades</th>\n",
       "      <th>total_num_grades</th>\n",
       "    </tr>\n",
       "  </thead>\n",
       "  <tbody>\n",
       "    <tr>\n",
       "      <th>0</th>\n",
       "      <td>Molecular Biology</td>\n",
       "      <td>MOL BIOL</td>\n",
       "      <td>4.000000</td>\n",
       "      <td>0.140426</td>\n",
       "      <td>33</td>\n",
       "    </tr>\n",
       "    <tr>\n",
       "      <th>1</th>\n",
       "      <td>Ophthalmology and Visual Sciences</td>\n",
       "      <td>OPHTHALM</td>\n",
       "      <td>4.000000</td>\n",
       "      <td>0.415789</td>\n",
       "      <td>79</td>\n",
       "    </tr>\n",
       "    <tr>\n",
       "      <th>2</th>\n",
       "      <td>Neurological Surgery</td>\n",
       "      <td>NEURSURG</td>\n",
       "      <td>3.973333</td>\n",
       "      <td>3.947368</td>\n",
       "      <td>225</td>\n",
       "    </tr>\n",
       "    <tr>\n",
       "      <th>3</th>\n",
       "      <td>Neuroscience</td>\n",
       "      <td>NEURODPT</td>\n",
       "      <td>3.965957</td>\n",
       "      <td>2.043478</td>\n",
       "      <td>235</td>\n",
       "    </tr>\n",
       "    <tr>\n",
       "      <th>4</th>\n",
       "      <td>Art Education (Department of Art)</td>\n",
       "      <td>ART ED</td>\n",
       "      <td>3.954456</td>\n",
       "      <td>9.116071</td>\n",
       "      <td>2042</td>\n",
       "    </tr>\n",
       "  </tbody>\n",
       "</table>\n",
       "</div>"
      ],
      "text/plain": [
       "                                name abbreviation   avg_gpa  avg_num_grades  \\\n",
       "0                  Molecular Biology     MOL BIOL  4.000000        0.140426   \n",
       "1  Ophthalmology and Visual Sciences     OPHTHALM  4.000000        0.415789   \n",
       "2               Neurological Surgery     NEURSURG  3.973333        3.947368   \n",
       "3                       Neuroscience     NEURODPT  3.965957        2.043478   \n",
       "4  Art Education (Department of Art)       ART ED  3.954456        9.116071   \n",
       "\n",
       "   total_num_grades  \n",
       "0                33  \n",
       "1                79  \n",
       "2               225  \n",
       "3               235  \n",
       "4              2042  "
      ]
     },
     "execution_count": 119,
     "metadata": {},
     "output_type": "execute_result"
    }
   ],
   "source": [
    "Department.head()"
   ]
  },
  {
   "cell_type": "code",
   "execution_count": 120,
   "metadata": {},
   "outputs": [],
   "source": [
    "Department = Department.drop(['avg_num_grades'], axis=1)"
   ]
  },
  {
   "cell_type": "code",
   "execution_count": 121,
   "metadata": {},
   "outputs": [
    {
     "data": {
      "text/html": [
       "<div>\n",
       "<style scoped>\n",
       "    .dataframe tbody tr th:only-of-type {\n",
       "        vertical-align: middle;\n",
       "    }\n",
       "\n",
       "    .dataframe tbody tr th {\n",
       "        vertical-align: top;\n",
       "    }\n",
       "\n",
       "    .dataframe thead th {\n",
       "        text-align: right;\n",
       "    }\n",
       "</style>\n",
       "<table border=\"1\" class=\"dataframe\">\n",
       "  <thead>\n",
       "    <tr style=\"text-align: right;\">\n",
       "      <th></th>\n",
       "      <th>name</th>\n",
       "      <th>abbreviation</th>\n",
       "      <th>avg_gpa</th>\n",
       "      <th>total_num_grades</th>\n",
       "    </tr>\n",
       "  </thead>\n",
       "  <tbody>\n",
       "    <tr>\n",
       "      <th>0</th>\n",
       "      <td>Molecular Biology</td>\n",
       "      <td>MOL BIOL</td>\n",
       "      <td>4.000000</td>\n",
       "      <td>33</td>\n",
       "    </tr>\n",
       "    <tr>\n",
       "      <th>1</th>\n",
       "      <td>Ophthalmology and Visual Sciences</td>\n",
       "      <td>OPHTHALM</td>\n",
       "      <td>4.000000</td>\n",
       "      <td>79</td>\n",
       "    </tr>\n",
       "    <tr>\n",
       "      <th>2</th>\n",
       "      <td>Neurological Surgery</td>\n",
       "      <td>NEURSURG</td>\n",
       "      <td>3.973333</td>\n",
       "      <td>225</td>\n",
       "    </tr>\n",
       "    <tr>\n",
       "      <th>3</th>\n",
       "      <td>Neuroscience</td>\n",
       "      <td>NEURODPT</td>\n",
       "      <td>3.965957</td>\n",
       "      <td>235</td>\n",
       "    </tr>\n",
       "    <tr>\n",
       "      <th>4</th>\n",
       "      <td>Art Education (Department of Art)</td>\n",
       "      <td>ART ED</td>\n",
       "      <td>3.954456</td>\n",
       "      <td>2042</td>\n",
       "    </tr>\n",
       "  </tbody>\n",
       "</table>\n",
       "</div>"
      ],
      "text/plain": [
       "                                name abbreviation   avg_gpa  total_num_grades\n",
       "0                  Molecular Biology     MOL BIOL  4.000000                33\n",
       "1  Ophthalmology and Visual Sciences     OPHTHALM  4.000000                79\n",
       "2               Neurological Surgery     NEURSURG  3.973333               225\n",
       "3                       Neuroscience     NEURODPT  3.965957               235\n",
       "4  Art Education (Department of Art)       ART ED  3.954456              2042"
      ]
     },
     "execution_count": 121,
     "metadata": {},
     "output_type": "execute_result"
    }
   ],
   "source": [
    "Department.head()"
   ]
  },
  {
   "cell_type": "markdown",
   "metadata": {},
   "source": [
    "### Now we can look at \"Do STEM departments have a statistically significantly difference in average GAP when compared to the humanities?"
   ]
  },
  {
   "cell_type": "code",
   "execution_count": 122,
   "metadata": {},
   "outputs": [
    {
     "data": {
      "text/html": [
       "<div>\n",
       "<style scoped>\n",
       "    .dataframe tbody tr th:only-of-type {\n",
       "        vertical-align: middle;\n",
       "    }\n",
       "\n",
       "    .dataframe tbody tr th {\n",
       "        vertical-align: top;\n",
       "    }\n",
       "\n",
       "    .dataframe thead th {\n",
       "        text-align: right;\n",
       "    }\n",
       "</style>\n",
       "<table border=\"1\" class=\"dataframe\">\n",
       "  <thead>\n",
       "    <tr style=\"text-align: right;\">\n",
       "      <th></th>\n",
       "      <th>name</th>\n",
       "      <th>abbreviation</th>\n",
       "      <th>avg_gpa</th>\n",
       "      <th>total_num_grades</th>\n",
       "    </tr>\n",
       "  </thead>\n",
       "  <tbody>\n",
       "    <tr>\n",
       "      <th>0</th>\n",
       "      <td>Molecular Biology</td>\n",
       "      <td>MOL BIOL</td>\n",
       "      <td>4.000000</td>\n",
       "      <td>33</td>\n",
       "    </tr>\n",
       "    <tr>\n",
       "      <th>1</th>\n",
       "      <td>Ophthalmology and Visual Sciences</td>\n",
       "      <td>OPHTHALM</td>\n",
       "      <td>4.000000</td>\n",
       "      <td>79</td>\n",
       "    </tr>\n",
       "    <tr>\n",
       "      <th>2</th>\n",
       "      <td>Neurological Surgery</td>\n",
       "      <td>NEURSURG</td>\n",
       "      <td>3.973333</td>\n",
       "      <td>225</td>\n",
       "    </tr>\n",
       "    <tr>\n",
       "      <th>3</th>\n",
       "      <td>Neuroscience</td>\n",
       "      <td>NEURODPT</td>\n",
       "      <td>3.965957</td>\n",
       "      <td>235</td>\n",
       "    </tr>\n",
       "    <tr>\n",
       "      <th>4</th>\n",
       "      <td>Art Education (Department of Art)</td>\n",
       "      <td>ART ED</td>\n",
       "      <td>3.954456</td>\n",
       "      <td>2042</td>\n",
       "    </tr>\n",
       "  </tbody>\n",
       "</table>\n",
       "</div>"
      ],
      "text/plain": [
       "                                name abbreviation   avg_gpa  total_num_grades\n",
       "0                  Molecular Biology     MOL BIOL  4.000000                33\n",
       "1  Ophthalmology and Visual Sciences     OPHTHALM  4.000000                79\n",
       "2               Neurological Surgery     NEURSURG  3.973333               225\n",
       "3                       Neuroscience     NEURODPT  3.965957               235\n",
       "4  Art Education (Department of Art)       ART ED  3.954456              2042"
      ]
     },
     "execution_count": 122,
     "metadata": {},
     "output_type": "execute_result"
    }
   ],
   "source": [
    "Department.head()"
   ]
  },
  {
   "cell_type": "code",
   "execution_count": 123,
   "metadata": {},
   "outputs": [],
   "source": [
    "#dept = pd.read_csv('uw-madison-courses/Departments.csv')  #dataset with STEM departments tagged"
   ]
  },
  {
   "cell_type": "code",
   "execution_count": 124,
   "metadata": {},
   "outputs": [],
   "source": [
    "#dept = dept.sort_values('name', ascending=True)"
   ]
  },
  {
   "cell_type": "code",
   "execution_count": 125,
   "metadata": {
    "scrolled": true
   },
   "outputs": [
    {
     "data": {
      "text/html": [
       "<div>\n",
       "<style scoped>\n",
       "    .dataframe tbody tr th:only-of-type {\n",
       "        vertical-align: middle;\n",
       "    }\n",
       "\n",
       "    .dataframe tbody tr th {\n",
       "        vertical-align: top;\n",
       "    }\n",
       "\n",
       "    .dataframe thead th {\n",
       "        text-align: right;\n",
       "    }\n",
       "</style>\n",
       "<table border=\"1\" class=\"dataframe\">\n",
       "  <thead>\n",
       "    <tr style=\"text-align: right;\">\n",
       "      <th></th>\n",
       "      <th>name</th>\n",
       "      <th>abbreviation</th>\n",
       "      <th>avg_gpa</th>\n",
       "      <th>total_num_grades</th>\n",
       "    </tr>\n",
       "  </thead>\n",
       "  <tbody>\n",
       "    <tr>\n",
       "      <th>0</th>\n",
       "      <td>Molecular Biology</td>\n",
       "      <td>MOL BIOL</td>\n",
       "      <td>4.000000</td>\n",
       "      <td>33</td>\n",
       "    </tr>\n",
       "    <tr>\n",
       "      <th>1</th>\n",
       "      <td>Ophthalmology and Visual Sciences</td>\n",
       "      <td>OPHTHALM</td>\n",
       "      <td>4.000000</td>\n",
       "      <td>79</td>\n",
       "    </tr>\n",
       "    <tr>\n",
       "      <th>2</th>\n",
       "      <td>Neurological Surgery</td>\n",
       "      <td>NEURSURG</td>\n",
       "      <td>3.973333</td>\n",
       "      <td>225</td>\n",
       "    </tr>\n",
       "    <tr>\n",
       "      <th>3</th>\n",
       "      <td>Neuroscience</td>\n",
       "      <td>NEURODPT</td>\n",
       "      <td>3.965957</td>\n",
       "      <td>235</td>\n",
       "    </tr>\n",
       "    <tr>\n",
       "      <th>4</th>\n",
       "      <td>Art Education (Department of Art)</td>\n",
       "      <td>ART ED</td>\n",
       "      <td>3.954456</td>\n",
       "      <td>2042</td>\n",
       "    </tr>\n",
       "    <tr>\n",
       "      <th>5</th>\n",
       "      <td>Family Medicine</td>\n",
       "      <td>FAM MED</td>\n",
       "      <td>3.932018</td>\n",
       "      <td>228</td>\n",
       "    </tr>\n",
       "    <tr>\n",
       "      <th>6</th>\n",
       "      <td>Curriculum and Instruction</td>\n",
       "      <td>CURRIC</td>\n",
       "      <td>3.912719</td>\n",
       "      <td>56341</td>\n",
       "    </tr>\n",
       "    <tr>\n",
       "      <th>7</th>\n",
       "      <td>Military Science</td>\n",
       "      <td>MIL SCI</td>\n",
       "      <td>3.909865</td>\n",
       "      <td>4521</td>\n",
       "    </tr>\n",
       "    <tr>\n",
       "      <th>8</th>\n",
       "      <td>Educational Leadership and Policy Analysis</td>\n",
       "      <td>ELPA</td>\n",
       "      <td>3.900249</td>\n",
       "      <td>10862</td>\n",
       "    </tr>\n",
       "    <tr>\n",
       "      <th>9</th>\n",
       "      <td>Rehabilitation Psychology and Special Education</td>\n",
       "      <td>RP &amp; SE</td>\n",
       "      <td>3.896153</td>\n",
       "      <td>24642</td>\n",
       "    </tr>\n",
       "    <tr>\n",
       "      <th>10</th>\n",
       "      <td>Integrated Arts</td>\n",
       "      <td>INTEGART</td>\n",
       "      <td>3.880952</td>\n",
       "      <td>84</td>\n",
       "    </tr>\n",
       "    <tr>\n",
       "      <th>11</th>\n",
       "      <td>Therapeutic Science (Department of Kinesiology)</td>\n",
       "      <td>THER SCI</td>\n",
       "      <td>3.868368</td>\n",
       "      <td>7388</td>\n",
       "    </tr>\n",
       "    <tr>\n",
       "      <th>12</th>\n",
       "      <td>Music</td>\n",
       "      <td>MUSIC</td>\n",
       "      <td>3.843559</td>\n",
       "      <td>98903</td>\n",
       "    </tr>\n",
       "    <tr>\n",
       "      <th>13</th>\n",
       "      <td>Counseling Psychology</td>\n",
       "      <td>COUN PSY</td>\n",
       "      <td>3.843045</td>\n",
       "      <td>25982</td>\n",
       "    </tr>\n",
       "    <tr>\n",
       "      <th>14</th>\n",
       "      <td>Naval Science</td>\n",
       "      <td>NAV SCI</td>\n",
       "      <td>3.842839</td>\n",
       "      <td>3086</td>\n",
       "    </tr>\n",
       "    <tr>\n",
       "      <th>15</th>\n",
       "      <td>Occupational Therapy (Department of Kinesiology)</td>\n",
       "      <td>OCC THER</td>\n",
       "      <td>3.823146</td>\n",
       "      <td>8295</td>\n",
       "    </tr>\n",
       "    <tr>\n",
       "      <th>16</th>\n",
       "      <td>Air Force Aerospace Studies</td>\n",
       "      <td>A F AERO</td>\n",
       "      <td>3.814854</td>\n",
       "      <td>2390</td>\n",
       "    </tr>\n",
       "    <tr>\n",
       "      <th>17</th>\n",
       "      <td>Music-Performance</td>\n",
       "      <td>MUS PERF</td>\n",
       "      <td>3.813184</td>\n",
       "      <td>4202</td>\n",
       "    </tr>\n",
       "    <tr>\n",
       "      <th>18</th>\n",
       "      <td>Civil Society and Community Studies</td>\n",
       "      <td>CSCS</td>\n",
       "      <td>3.810788</td>\n",
       "      <td>2410</td>\n",
       "    </tr>\n",
       "    <tr>\n",
       "      <th>19</th>\n",
       "      <td>Integrated Science</td>\n",
       "      <td>INTEGSCI</td>\n",
       "      <td>3.807494</td>\n",
       "      <td>387</td>\n",
       "    </tr>\n",
       "    <tr>\n",
       "      <th>20</th>\n",
       "      <td>Agroecology</td>\n",
       "      <td>AGROECOL</td>\n",
       "      <td>3.802849</td>\n",
       "      <td>667</td>\n",
       "    </tr>\n",
       "    <tr>\n",
       "      <th>21</th>\n",
       "      <td>Hebrew-Modern</td>\n",
       "      <td>HEBR-MOD</td>\n",
       "      <td>3.800000</td>\n",
       "      <td>170</td>\n",
       "    </tr>\n",
       "    <tr>\n",
       "      <th>22</th>\n",
       "      <td>Emergency Medicine</td>\n",
       "      <td>EMER MED</td>\n",
       "      <td>3.793103</td>\n",
       "      <td>58</td>\n",
       "    </tr>\n",
       "    <tr>\n",
       "      <th>23</th>\n",
       "      <td>Library and Information Studies</td>\n",
       "      <td>L I S</td>\n",
       "      <td>3.790962</td>\n",
       "      <td>16033</td>\n",
       "    </tr>\n",
       "    <tr>\n",
       "      <th>24</th>\n",
       "      <td>Dance</td>\n",
       "      <td>DANCE</td>\n",
       "      <td>3.789589</td>\n",
       "      <td>19134</td>\n",
       "    </tr>\n",
       "    <tr>\n",
       "      <th>25</th>\n",
       "      <td>PROFESSIONAL ORIENTATION</td>\n",
       "      <td>PRO OR</td>\n",
       "      <td>3.788934</td>\n",
       "      <td>244</td>\n",
       "    </tr>\n",
       "    <tr>\n",
       "      <th>26</th>\n",
       "      <td>Nursing</td>\n",
       "      <td>NURSING</td>\n",
       "      <td>3.780698</td>\n",
       "      <td>40841</td>\n",
       "    </tr>\n",
       "    <tr>\n",
       "      <th>27</th>\n",
       "      <td>Radiology</td>\n",
       "      <td>RADIOL</td>\n",
       "      <td>3.768571</td>\n",
       "      <td>2450</td>\n",
       "    </tr>\n",
       "    <tr>\n",
       "      <th>28</th>\n",
       "      <td>Interdisciplinary Courses (L&amp;S)</td>\n",
       "      <td>INTER-LS</td>\n",
       "      <td>3.759573</td>\n",
       "      <td>7730</td>\n",
       "    </tr>\n",
       "    <tr>\n",
       "      <th>29</th>\n",
       "      <td>Information Systems</td>\n",
       "      <td>INFO SYS</td>\n",
       "      <td>3.739837</td>\n",
       "      <td>1476</td>\n",
       "    </tr>\n",
       "    <tr>\n",
       "      <th>...</th>\n",
       "      <td>...</td>\n",
       "      <td>...</td>\n",
       "      <td>...</td>\n",
       "      <td>...</td>\n",
       "    </tr>\n",
       "    <tr>\n",
       "      <th>161</th>\n",
       "      <td>Risk Management and Insurance</td>\n",
       "      <td>R M I</td>\n",
       "      <td>3.239706</td>\n",
       "      <td>11147</td>\n",
       "    </tr>\n",
       "    <tr>\n",
       "      <th>162</th>\n",
       "      <td>Microbiology</td>\n",
       "      <td>MICROBIO</td>\n",
       "      <td>3.232718</td>\n",
       "      <td>45959</td>\n",
       "    </tr>\n",
       "    <tr>\n",
       "      <th>163</th>\n",
       "      <td>Genetics</td>\n",
       "      <td>GENETICS</td>\n",
       "      <td>3.220123</td>\n",
       "      <td>26492</td>\n",
       "    </tr>\n",
       "    <tr>\n",
       "      <th>164</th>\n",
       "      <td>Biochemistry</td>\n",
       "      <td>BIOCHEM</td>\n",
       "      <td>3.219533</td>\n",
       "      <td>94357</td>\n",
       "    </tr>\n",
       "    <tr>\n",
       "      <th>165</th>\n",
       "      <td>Agricultural and Applied Economics</td>\n",
       "      <td>A A E</td>\n",
       "      <td>3.215178</td>\n",
       "      <td>26269</td>\n",
       "    </tr>\n",
       "    <tr>\n",
       "      <th>166</th>\n",
       "      <td>Law</td>\n",
       "      <td>LAW</td>\n",
       "      <td>3.211786</td>\n",
       "      <td>24088</td>\n",
       "    </tr>\n",
       "    <tr>\n",
       "      <th>167</th>\n",
       "      <td>Nutritional Sciences</td>\n",
       "      <td>NUTR SCI</td>\n",
       "      <td>3.210995</td>\n",
       "      <td>52807</td>\n",
       "    </tr>\n",
       "    <tr>\n",
       "      <th>168</th>\n",
       "      <td>Political Science</td>\n",
       "      <td>POLI SCI</td>\n",
       "      <td>3.209451</td>\n",
       "      <td>82993</td>\n",
       "    </tr>\n",
       "    <tr>\n",
       "      <th>169</th>\n",
       "      <td>Engineering Mechanics and Astronautics</td>\n",
       "      <td>E M A</td>\n",
       "      <td>3.204485</td>\n",
       "      <td>36257</td>\n",
       "    </tr>\n",
       "    <tr>\n",
       "      <th>170</th>\n",
       "      <td>Biological Systems Engineering</td>\n",
       "      <td>BSE</td>\n",
       "      <td>3.194847</td>\n",
       "      <td>8422</td>\n",
       "    </tr>\n",
       "    <tr>\n",
       "      <th>171</th>\n",
       "      <td>Computer Sciences</td>\n",
       "      <td>COMP SCI</td>\n",
       "      <td>3.191328</td>\n",
       "      <td>89681</td>\n",
       "    </tr>\n",
       "    <tr>\n",
       "      <th>172</th>\n",
       "      <td>Geography</td>\n",
       "      <td>GEOG</td>\n",
       "      <td>3.178373</td>\n",
       "      <td>63059</td>\n",
       "    </tr>\n",
       "    <tr>\n",
       "      <th>173</th>\n",
       "      <td>Food Science</td>\n",
       "      <td>FOOD SCI</td>\n",
       "      <td>3.167900</td>\n",
       "      <td>17564</td>\n",
       "    </tr>\n",
       "    <tr>\n",
       "      <th>174</th>\n",
       "      <td>Accounting and Information Systems</td>\n",
       "      <td>ACCT I S</td>\n",
       "      <td>3.167475</td>\n",
       "      <td>72814</td>\n",
       "    </tr>\n",
       "    <tr>\n",
       "      <th>175</th>\n",
       "      <td>PHYSICAL EDUC ACTIVITY PROGM</td>\n",
       "      <td>PE ACTIV</td>\n",
       "      <td>3.165026</td>\n",
       "      <td>26511</td>\n",
       "    </tr>\n",
       "    <tr>\n",
       "      <th>176</th>\n",
       "      <td>Legal Studies</td>\n",
       "      <td>LEGAL ST</td>\n",
       "      <td>3.159793</td>\n",
       "      <td>12294</td>\n",
       "    </tr>\n",
       "    <tr>\n",
       "      <th>177</th>\n",
       "      <td>WILDLIFE ECOLOGY</td>\n",
       "      <td>WL ECOL</td>\n",
       "      <td>3.142799</td>\n",
       "      <td>2451</td>\n",
       "    </tr>\n",
       "    <tr>\n",
       "      <th>178</th>\n",
       "      <td>Atmospheric and Oceanic Sciences</td>\n",
       "      <td>ATM OCN</td>\n",
       "      <td>3.136610</td>\n",
       "      <td>28629</td>\n",
       "    </tr>\n",
       "    <tr>\n",
       "      <th>179</th>\n",
       "      <td>Physiology</td>\n",
       "      <td>PHYSIOL</td>\n",
       "      <td>3.112665</td>\n",
       "      <td>41801</td>\n",
       "    </tr>\n",
       "    <tr>\n",
       "      <th>180</th>\n",
       "      <td>Anthropology</td>\n",
       "      <td>ANTHRO</td>\n",
       "      <td>3.104818</td>\n",
       "      <td>69926</td>\n",
       "    </tr>\n",
       "    <tr>\n",
       "      <th>181</th>\n",
       "      <td>Physics</td>\n",
       "      <td>PHYSICS</td>\n",
       "      <td>3.100393</td>\n",
       "      <td>119007</td>\n",
       "    </tr>\n",
       "    <tr>\n",
       "      <th>182</th>\n",
       "      <td>Psychology</td>\n",
       "      <td>PSYCH</td>\n",
       "      <td>3.096020</td>\n",
       "      <td>167169</td>\n",
       "    </tr>\n",
       "    <tr>\n",
       "      <th>183</th>\n",
       "      <td>Geoscience</td>\n",
       "      <td>GEOSCI</td>\n",
       "      <td>3.087438</td>\n",
       "      <td>54902</td>\n",
       "    </tr>\n",
       "    <tr>\n",
       "      <th>184</th>\n",
       "      <td>Astronomy</td>\n",
       "      <td>ASTRON</td>\n",
       "      <td>3.051750</td>\n",
       "      <td>17710</td>\n",
       "    </tr>\n",
       "    <tr>\n",
       "      <th>185</th>\n",
       "      <td>Economics</td>\n",
       "      <td>ECON</td>\n",
       "      <td>3.038317</td>\n",
       "      <td>172497</td>\n",
       "    </tr>\n",
       "    <tr>\n",
       "      <th>186</th>\n",
       "      <td>Chemistry</td>\n",
       "      <td>CHEM</td>\n",
       "      <td>3.033202</td>\n",
       "      <td>171813</td>\n",
       "    </tr>\n",
       "    <tr>\n",
       "      <th>187</th>\n",
       "      <td>Botany</td>\n",
       "      <td>BOTANY</td>\n",
       "      <td>3.012299</td>\n",
       "      <td>112161</td>\n",
       "    </tr>\n",
       "    <tr>\n",
       "      <th>188</th>\n",
       "      <td>Zoology</td>\n",
       "      <td>ZOOLOGY</td>\n",
       "      <td>2.969844</td>\n",
       "      <td>205020</td>\n",
       "    </tr>\n",
       "    <tr>\n",
       "      <th>189</th>\n",
       "      <td>Biology</td>\n",
       "      <td>BIOLOGY</td>\n",
       "      <td>2.926430</td>\n",
       "      <td>152257</td>\n",
       "    </tr>\n",
       "    <tr>\n",
       "      <th>190</th>\n",
       "      <td>Mathematics</td>\n",
       "      <td>MATH</td>\n",
       "      <td>2.906503</td>\n",
       "      <td>158620</td>\n",
       "    </tr>\n",
       "  </tbody>\n",
       "</table>\n",
       "<p>191 rows × 4 columns</p>\n",
       "</div>"
      ],
      "text/plain": [
       "                                                 name abbreviation   avg_gpa  \\\n",
       "0                                   Molecular Biology     MOL BIOL  4.000000   \n",
       "1                   Ophthalmology and Visual Sciences     OPHTHALM  4.000000   \n",
       "2                                Neurological Surgery     NEURSURG  3.973333   \n",
       "3                                        Neuroscience     NEURODPT  3.965957   \n",
       "4                   Art Education (Department of Art)       ART ED  3.954456   \n",
       "5                                     Family Medicine      FAM MED  3.932018   \n",
       "6                          Curriculum and Instruction       CURRIC  3.912719   \n",
       "7                                    Military Science      MIL SCI  3.909865   \n",
       "8          Educational Leadership and Policy Analysis         ELPA  3.900249   \n",
       "9     Rehabilitation Psychology and Special Education      RP & SE  3.896153   \n",
       "10                                    Integrated Arts     INTEGART  3.880952   \n",
       "11    Therapeutic Science (Department of Kinesiology)     THER SCI  3.868368   \n",
       "12                                              Music        MUSIC  3.843559   \n",
       "13                              Counseling Psychology     COUN PSY  3.843045   \n",
       "14                                      Naval Science      NAV SCI  3.842839   \n",
       "15   Occupational Therapy (Department of Kinesiology)     OCC THER  3.823146   \n",
       "16                        Air Force Aerospace Studies     A F AERO  3.814854   \n",
       "17                                  Music-Performance     MUS PERF  3.813184   \n",
       "18                Civil Society and Community Studies         CSCS  3.810788   \n",
       "19                                 Integrated Science     INTEGSCI  3.807494   \n",
       "20                                        Agroecology     AGROECOL  3.802849   \n",
       "21                                      Hebrew-Modern     HEBR-MOD  3.800000   \n",
       "22                                 Emergency Medicine     EMER MED  3.793103   \n",
       "23                    Library and Information Studies        L I S  3.790962   \n",
       "24                                              Dance        DANCE  3.789589   \n",
       "25                           PROFESSIONAL ORIENTATION       PRO OR  3.788934   \n",
       "26                                            Nursing      NURSING  3.780698   \n",
       "27                                          Radiology       RADIOL  3.768571   \n",
       "28                    Interdisciplinary Courses (L&S)     INTER-LS  3.759573   \n",
       "29                                Information Systems     INFO SYS  3.739837   \n",
       "..                                                ...          ...       ...   \n",
       "161                     Risk Management and Insurance        R M I  3.239706   \n",
       "162                                      Microbiology     MICROBIO  3.232718   \n",
       "163                                          Genetics     GENETICS  3.220123   \n",
       "164                                      Biochemistry      BIOCHEM  3.219533   \n",
       "165                Agricultural and Applied Economics        A A E  3.215178   \n",
       "166                                               Law          LAW  3.211786   \n",
       "167                              Nutritional Sciences     NUTR SCI  3.210995   \n",
       "168                                 Political Science     POLI SCI  3.209451   \n",
       "169            Engineering Mechanics and Astronautics        E M A  3.204485   \n",
       "170                    Biological Systems Engineering          BSE  3.194847   \n",
       "171                                 Computer Sciences     COMP SCI  3.191328   \n",
       "172                                         Geography         GEOG  3.178373   \n",
       "173                                      Food Science     FOOD SCI  3.167900   \n",
       "174                Accounting and Information Systems     ACCT I S  3.167475   \n",
       "175                      PHYSICAL EDUC ACTIVITY PROGM     PE ACTIV  3.165026   \n",
       "176                                     Legal Studies     LEGAL ST  3.159793   \n",
       "177                                  WILDLIFE ECOLOGY      WL ECOL  3.142799   \n",
       "178                  Atmospheric and Oceanic Sciences      ATM OCN  3.136610   \n",
       "179                                        Physiology      PHYSIOL  3.112665   \n",
       "180                                      Anthropology       ANTHRO  3.104818   \n",
       "181                                           Physics      PHYSICS  3.100393   \n",
       "182                                        Psychology        PSYCH  3.096020   \n",
       "183                                        Geoscience       GEOSCI  3.087438   \n",
       "184                                         Astronomy       ASTRON  3.051750   \n",
       "185                                         Economics         ECON  3.038317   \n",
       "186                                         Chemistry         CHEM  3.033202   \n",
       "187                                            Botany       BOTANY  3.012299   \n",
       "188                                           Zoology      ZOOLOGY  2.969844   \n",
       "189                                           Biology      BIOLOGY  2.926430   \n",
       "190                                       Mathematics         MATH  2.906503   \n",
       "\n",
       "     total_num_grades  \n",
       "0                  33  \n",
       "1                  79  \n",
       "2                 225  \n",
       "3                 235  \n",
       "4                2042  \n",
       "5                 228  \n",
       "6               56341  \n",
       "7                4521  \n",
       "8               10862  \n",
       "9               24642  \n",
       "10                 84  \n",
       "11               7388  \n",
       "12              98903  \n",
       "13              25982  \n",
       "14               3086  \n",
       "15               8295  \n",
       "16               2390  \n",
       "17               4202  \n",
       "18               2410  \n",
       "19                387  \n",
       "20                667  \n",
       "21                170  \n",
       "22                 58  \n",
       "23              16033  \n",
       "24              19134  \n",
       "25                244  \n",
       "26              40841  \n",
       "27               2450  \n",
       "28               7730  \n",
       "29               1476  \n",
       "..                ...  \n",
       "161             11147  \n",
       "162             45959  \n",
       "163             26492  \n",
       "164             94357  \n",
       "165             26269  \n",
       "166             24088  \n",
       "167             52807  \n",
       "168             82993  \n",
       "169             36257  \n",
       "170              8422  \n",
       "171             89681  \n",
       "172             63059  \n",
       "173             17564  \n",
       "174             72814  \n",
       "175             26511  \n",
       "176             12294  \n",
       "177              2451  \n",
       "178             28629  \n",
       "179             41801  \n",
       "180             69926  \n",
       "181            119007  \n",
       "182            167169  \n",
       "183             54902  \n",
       "184             17710  \n",
       "185            172497  \n",
       "186            171813  \n",
       "187            112161  \n",
       "188            205020  \n",
       "189            152257  \n",
       "190            158620  \n",
       "\n",
       "[191 rows x 4 columns]"
      ]
     },
     "execution_count": 125,
     "metadata": {},
     "output_type": "execute_result"
    }
   ],
   "source": [
    "Department"
   ]
  },
  {
   "cell_type": "code",
   "execution_count": 126,
   "metadata": {},
   "outputs": [],
   "source": [
    "Department = Department.sort_values('name', ascending=True)"
   ]
  },
  {
   "cell_type": "code",
   "execution_count": 127,
   "metadata": {},
   "outputs": [],
   "source": [
    "stem_dept_stu = Department[Department['abbreviation'] == 'STEM']"
   ]
  },
  {
   "cell_type": "code",
   "execution_count": 128,
   "metadata": {},
   "outputs": [],
   "source": [
    "oth_dept_stu = Department[Department['abbreviation'] != 'STEM']"
   ]
  },
  {
   "cell_type": "code",
   "execution_count": 129,
   "metadata": {},
   "outputs": [
    {
     "data": {
      "text/plain": [
       "0"
      ]
     },
     "execution_count": 129,
     "metadata": {},
     "output_type": "execute_result"
    }
   ],
   "source": [
    "stem_dept_stu['total_num_grades'].sum()"
   ]
  },
  {
   "cell_type": "code",
   "execution_count": 130,
   "metadata": {},
   "outputs": [
    {
     "data": {
      "text/plain": [
       "5285987"
      ]
     },
     "execution_count": 130,
     "metadata": {},
     "output_type": "execute_result"
    }
   ],
   "source": [
    "oth_dept_stu['total_num_grades'].sum()"
   ]
  },
  {
   "cell_type": "code",
   "execution_count": 131,
   "metadata": {},
   "outputs": [],
   "source": [
    "stem_dept = Department[Department['abbreviation'] == 'STEM']"
   ]
  },
  {
   "cell_type": "code",
   "execution_count": 132,
   "metadata": {},
   "outputs": [],
   "source": [
    "oth_dept = Department[Department['abbreviation'] != 'STEM']"
   ]
  },
  {
   "cell_type": "code",
   "execution_count": 133,
   "metadata": {},
   "outputs": [
    {
     "data": {
      "text/plain": [
       "0"
      ]
     },
     "execution_count": 133,
     "metadata": {},
     "output_type": "execute_result"
    }
   ],
   "source": [
    "len(stem_dept)"
   ]
  },
  {
   "cell_type": "code",
   "execution_count": 134,
   "metadata": {},
   "outputs": [
    {
     "data": {
      "text/plain": [
       "191"
      ]
     },
     "execution_count": 134,
     "metadata": {},
     "output_type": "execute_result"
    }
   ],
   "source": [
    "len(oth_dept)"
   ]
  },
  {
   "cell_type": "code",
   "execution_count": 135,
   "metadata": {},
   "outputs": [
    {
     "data": {
      "text/plain": [
       "Ttest_indResult(statistic=nan, pvalue=nan)"
      ]
     },
     "execution_count": 135,
     "metadata": {},
     "output_type": "execute_result"
    }
   ],
   "source": [
    "stats.ttest_ind(a= stem_dept['avg_gpa'],\n",
    "                b= oth_dept['avg_gpa'])"
   ]
  },
  {
   "cell_type": "code",
   "execution_count": 136,
   "metadata": {},
   "outputs": [
    {
     "data": {
      "text/plain": [
       "count    0.0\n",
       "mean     NaN\n",
       "std      NaN\n",
       "min      NaN\n",
       "25%      NaN\n",
       "50%      NaN\n",
       "75%      NaN\n",
       "max      NaN\n",
       "Name: avg_gpa, dtype: float64"
      ]
     },
     "execution_count": 136,
     "metadata": {},
     "output_type": "execute_result"
    }
   ],
   "source": [
    "stem_dept['avg_gpa'].describe()"
   ]
  },
  {
   "cell_type": "code",
   "execution_count": 137,
   "metadata": {},
   "outputs": [
    {
     "data": {
      "text/plain": [
       "count    191.000000\n",
       "mean       3.501571\n",
       "std        0.234586\n",
       "min        2.906503\n",
       "25%        3.364478\n",
       "50%        3.503756\n",
       "75%        3.663693\n",
       "max        4.000000\n",
       "Name: avg_gpa, dtype: float64"
      ]
     },
     "execution_count": 137,
     "metadata": {},
     "output_type": "execute_result"
    }
   ],
   "source": [
    "oth_dept['avg_gpa'].describe()"
   ]
  },
  {
   "cell_type": "code",
   "execution_count": 138,
   "metadata": {},
   "outputs": [
    {
     "data": {
      "image/png": "[encoded data removed]",
      "text/plain": [
       "<Figure size 432x288 with 1 Axes>"
      ]
     },
     "metadata": {
      "needs_background": "light"
     },
     "output_type": "display_data"
    }
   ],
   "source": [
    "sns.distplot(Department['avg_gpa'])\n",
    "plt.show()"
   ]
  },
  {
   "cell_type": "code",
   "execution_count": 139,
   "metadata": {},
   "outputs": [],
   "source": [
    "# levenes test is robust to data that is not normalized, pvalue indicates that the two variances \n",
    "# are approximately equal"
   ]
  },
  {
   "cell_type": "code",
   "execution_count": 140,
   "metadata": {},
   "outputs": [
    {
     "data": {
      "text/html": [
       "<div>\n",
       "<style scoped>\n",
       "    .dataframe tbody tr th:only-of-type {\n",
       "        vertical-align: middle;\n",
       "    }\n",
       "\n",
       "    .dataframe tbody tr th {\n",
       "        vertical-align: top;\n",
       "    }\n",
       "\n",
       "    .dataframe thead th {\n",
       "        text-align: right;\n",
       "    }\n",
       "</style>\n",
       "<table border=\"1\" class=\"dataframe\">\n",
       "  <thead>\n",
       "    <tr style=\"text-align: right;\">\n",
       "      <th></th>\n",
       "      <th></th>\n",
       "      <th>count</th>\n",
       "      <th>mean</th>\n",
       "      <th>&lt;=B_prob</th>\n",
       "      <th>ab_prob</th>\n",
       "      <th>a_prob</th>\n",
       "    </tr>\n",
       "    <tr>\n",
       "      <th>id</th>\n",
       "      <th>name</th>\n",
       "      <th></th>\n",
       "      <th></th>\n",
       "      <th></th>\n",
       "      <th></th>\n",
       "      <th></th>\n",
       "    </tr>\n",
       "  </thead>\n",
       "  <tbody>\n",
       "    <tr>\n",
       "      <th>100191</th>\n",
       "      <th>SCOTT CRAVEN</th>\n",
       "      <td>14</td>\n",
       "      <td>3.19</td>\n",
       "      <td>0.480192</td>\n",
       "      <td>0.118547</td>\n",
       "      <td>0.401261</td>\n",
       "    </tr>\n",
       "    <tr>\n",
       "      <th>100475</th>\n",
       "      <th>DIANNA MURPHY</th>\n",
       "      <td>2</td>\n",
       "      <td>3.94</td>\n",
       "      <td>0.055556</td>\n",
       "      <td>0.000000</td>\n",
       "      <td>0.944444</td>\n",
       "    </tr>\n",
       "    <tr>\n",
       "      <th>101964</th>\n",
       "      <th>HEIDI BRITT KELLUM</th>\n",
       "      <td>24</td>\n",
       "      <td>3.95</td>\n",
       "      <td>0.018171</td>\n",
       "      <td>0.000000</td>\n",
       "      <td>0.981829</td>\n",
       "    </tr>\n",
       "    <tr>\n",
       "      <th>101997</th>\n",
       "      <th>DANIEL JOSEPH ACHESON</th>\n",
       "      <td>21</td>\n",
       "      <td>2.70</td>\n",
       "      <td>0.754440</td>\n",
       "      <td>0.101253</td>\n",
       "      <td>0.144307</td>\n",
       "    </tr>\n",
       "    <tr>\n",
       "      <th>102482</th>\n",
       "      <th>JONATHAN ANDREW FOLEY</th>\n",
       "      <td>10</td>\n",
       "      <td>3.73</td>\n",
       "      <td>0.163271</td>\n",
       "      <td>0.192260</td>\n",
       "      <td>0.644469</td>\n",
       "    </tr>\n",
       "  </tbody>\n",
       "</table>\n",
       "</div>"
      ],
      "text/plain": [
       "                              count  mean  <=B_prob   ab_prob    a_prob\n",
       "id     name                                                            \n",
       "100191 SCOTT CRAVEN              14  3.19  0.480192  0.118547  0.401261\n",
       "100475 DIANNA MURPHY              2  3.94  0.055556  0.000000  0.944444\n",
       "101964 HEIDI BRITT KELLUM        24  3.95  0.018171  0.000000  0.981829\n",
       "101997 DANIEL JOSEPH ACHESON     21  2.70  0.754440  0.101253  0.144307\n",
       "102482 JONATHAN ANDREW FOLEY     10  3.73  0.163271  0.192260  0.644469"
      ]
     },
     "execution_count": 140,
     "metadata": {},
     "output_type": "execute_result"
    }
   ],
   "source": [
    "final_prof['mean']=round(final_prof['mean'],2)\n",
    "final_prof.head()"
   ]
  },
  {
   "cell_type": "code",
   "execution_count": 141,
   "metadata": {},
   "outputs": [
    {
     "name": "stdout",
     "output_type": "stream",
     "text": [
      "rm: fp.csv: No such file or directory\r\n"
     ]
    }
   ],
   "source": [
    "#Department.to_csv('dept_status.csv')\n",
    "!rm fp.csv\n",
    "final_prof.to_csv('export/fp.csv') "
   ]
  }
 ],
 "metadata": {
  "kernelspec": {
   "display_name": "Python 3",
   "language": "python",
   "name": "python3"
  },
  "language_info": {
   "codemirror_mode": {
    "name": "ipython",
    "version": 3
   },
   "file_extension": ".py",
   "mimetype": "text/x-python",
   "name": "python",
   "nbconvert_exporter": "python",
   "pygments_lexer": "ipython3",
   "version": "3.7.3"
  }
 },
 "nbformat": 4,
 "nbformat_minor": 2
}
